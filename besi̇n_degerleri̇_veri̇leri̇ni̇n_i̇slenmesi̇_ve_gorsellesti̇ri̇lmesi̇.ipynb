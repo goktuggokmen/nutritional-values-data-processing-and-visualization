{
  "nbformat": 4,
  "nbformat_minor": 0,
  "metadata": {
    "colab": {
      "name": "BESİN DEĞERLERİ VERİLERİNİN İŞLENMESİ VE GÖRSELLEŞTİRİLMESİ.ipynb",
      "provenance": [],
      "collapsed_sections": [],
      "include_colab_link": true
    },
    "kernelspec": {
      "name": "python3",
      "display_name": "Python 3"
    }
  },
  "cells": [
    {
      "cell_type": "markdown",
      "metadata": {
        "id": "view-in-github",
        "colab_type": "text"
      },
      "source": [
        "<a href=\"https://colab.research.google.com/github/goktuggokmen/nutritional-values-data-processing-and-visualization/blob/main/besi%CC%87n_degerleri%CC%87_veri%CC%87leri%CC%87ni%CC%87n_i%CC%87slenmesi%CC%87_ve_gorsellesti%CC%87ri%CC%87lmesi%CC%87.ipynb\" target=\"_parent\"><img src=\"https://colab.research.google.com/assets/colab-badge.svg\" alt=\"Open In Colab\"/></a>"
      ]
    },
    {
      "cell_type": "markdown",
      "metadata": {
        "id": "B2szP24Cu7OB"
      },
      "source": [
        "## ***PROJEMİZİN AMACI GIDALARIN BESİN DEĞERLERİNİ İŞLEYEREK VERİLERİ GÖRSELLEŞTİRMEKTİR.***"
      ]
    },
    {
      "cell_type": "markdown",
      "metadata": {
        "id": "AgXdyWpfA0ZS"
      },
      "source": [
        "# 1.HAZIRLAYANLAR\n",
        "#*   Göktuğ GÖKMEN\n",
        "#*   Muhammet Fatih ACUN\n",
        "#*   Metehan ÇALLI \n",
        "#*   Zehra ASLAN\n",
        "Kaynak ---> Hacettepe Üniversitesi Sağlık Bilimleri Fakültesi Beslenme Ve Diyetetik Bölümü\n"
      ]
    },
    {
      "cell_type": "markdown",
      "metadata": {
        "id": "HiA52Kh0Vuzj"
      },
      "source": [
        "# 2.KULLANILACAK KÜTÜPHANELERİN YÜKLENMESİ"
      ]
    },
    {
      "cell_type": "code",
      "metadata": {
        "id": "J-Rsm17-V3KJ"
      },
      "source": [
        "import matplotlib.pyplot as plt #numpy çizim kütüphanesi \n",
        "import seaborn as sns #istatiksel grafikleri çizdirmek için gerekli kütüphane\n",
        "import pandas as pd #veri analiz ve işleme için kullanılan kütüphane \n",
        "import numpy as np #büyük, çok boyutlu diziler ve matrisler için destek eklerken, bu dizilerde çalışmak için yüksek düzeyli matematiksel işlevlerin geniş bir koleksiyonudur.\n",
        "import csv #Virgülle ayrılmış değerler dosyası, değerleri ayırmak için virgül kullanan sınırlandırılmış bir metin dosyasıdır. Dosyanın her satırı bir veri kaydıdır. Her kayıt virgülle ayrılmış bir veya daha fazla alandan oluşur. Alan ayırıcı olarak virgül kullanılması, bu dosya formatı için adın kaynağıdır."
      ],
      "execution_count": null,
      "outputs": []
    },
    {
      "cell_type": "markdown",
      "metadata": {
        "id": "noQ7-oXdw7yp"
      },
      "source": [
        "# 3.DOSYALARI OKUMA "
      ]
    },
    {
      "cell_type": "code",
      "metadata": {
        "id": "CG2c1VBQpo7y"
      },
      "source": [
        "yas_enerji = pd.read_excel(\"yas_enerji.xlsx\") #yaş-enerji ilişkisi içeren tablonun okunması "
      ],
      "execution_count": null,
      "outputs": []
    },
    {
      "cell_type": "code",
      "metadata": {
        "id": "JmAFykK-pjZn"
      },
      "source": [
        "data =pd.read_excel(\"pyhton_proje.xlsx\") #besin değerlerini içeren tablonun okunması"
      ],
      "execution_count": null,
      "outputs": []
    },
    {
      "cell_type": "markdown",
      "metadata": {
        "id": "InU1Wg5rw0Xc"
      },
      "source": [
        "#4.ÖNCELİKLE VERİLERİMİZE BİR GÖZ ATALIM"
      ]
    },
    {
      "cell_type": "code",
      "metadata": {
        "id": "_AIp2bD-7SeA",
        "colab": {
          "base_uri": "https://localhost:8080/",
          "height": 476
        },
        "outputId": "c11f242f-5c4f-4da8-c67d-649855927386"
      },
      "source": [
        "#veriye dair genel bilgiler\n",
        "data.info()"
      ],
      "execution_count": null,
      "outputs": [
        {
          "output_type": "stream",
          "text": [
            "<class 'pandas.core.frame.DataFrame'>\n",
            "RangeIndex: 448 entries, 0 to 447\n",
            "Data columns (total 20 columns):\n",
            " #   Column                    Non-Null Count  Dtype  \n",
            "---  ------                    --------------  -----  \n",
            " 0   BESINLER                  438 non-null    object \n",
            " 1   SU(g)                     348 non-null    float64\n",
            " 2   ENERJI(g)                 364 non-null    float64\n",
            " 3   PROTEIN(g)                354 non-null    float64\n",
            " 4   YAG(g)                    349 non-null    float64\n",
            " 5   KARBONHIDRAT(g)           351 non-null    float64\n",
            " 6   POSA(g)                   299 non-null    float64\n",
            " 7   KUL(g)                    291 non-null    object \n",
            " 8   KALSIYUM(g)               317 non-null    object \n",
            " 9   DEMIR(g)                  312 non-null    float64\n",
            " 10  FOSFOR(g)                 273 non-null    float64\n",
            " 11  POTASYUM(g)               259 non-null    object \n",
            " 12  SODYUM(g)                 258 non-null    object \n",
            " 13  VITAMİN A ve KAROTEIN IU  263 non-null    object \n",
            " 14  TIAMIN (mg)               287 non-null    object \n",
            " 15  RIBOFLAVIN (mg)           290 non-null    object \n",
            " 16  NILASIN(mg)               287 non-null    object \n",
            " 17  VITAMIN C (mg)            232 non-null    float64\n",
            " 18  ARTIK (%)                 261 non-null    float64\n",
            " 19  KAFEIN(mg/100 mL)         398 non-null    object \n",
            "dtypes: float64(10), object(10)\n",
            "memory usage: 70.1+ KB\n"
          ],
          "name": "stdout"
        }
      ]
    },
    {
      "cell_type": "code",
      "metadata": {
        "id": "BYEPzwhsWdJn",
        "colab": {
          "base_uri": "https://localhost:8080/",
          "height": 1000
        },
        "outputId": "5689d31d-e639-4a7a-8353-83827c4b0383"
      },
      "source": [
        "# ilk 30 veri #\n",
        "\n",
        "data.head(30)   "
      ],
      "execution_count": null,
      "outputs": [
        {
          "output_type": "execute_result",
          "data": {
            "text/html": [
              "<div>\n",
              "<style scoped>\n",
              "    .dataframe tbody tr th:only-of-type {\n",
              "        vertical-align: middle;\n",
              "    }\n",
              "\n",
              "    .dataframe tbody tr th {\n",
              "        vertical-align: top;\n",
              "    }\n",
              "\n",
              "    .dataframe thead th {\n",
              "        text-align: right;\n",
              "    }\n",
              "</style>\n",
              "<table border=\"1\" class=\"dataframe\">\n",
              "  <thead>\n",
              "    <tr style=\"text-align: right;\">\n",
              "      <th></th>\n",
              "      <th>BESINLER</th>\n",
              "      <th>SU(g)</th>\n",
              "      <th>ENERJI(g)</th>\n",
              "      <th>PROTEIN(g)</th>\n",
              "      <th>YAG(g)</th>\n",
              "      <th>KARBONHIDRAT(g)</th>\n",
              "      <th>POSA(g)</th>\n",
              "      <th>KUL(g)</th>\n",
              "      <th>KALSIYUM(g)</th>\n",
              "      <th>DEMIR(g)</th>\n",
              "      <th>FOSFOR(g)</th>\n",
              "      <th>POTASYUM(g)</th>\n",
              "      <th>SODYUM(g)</th>\n",
              "      <th>VITAMİN A ve KAROTEIN IU</th>\n",
              "      <th>TIAMIN (mg)</th>\n",
              "      <th>RIBOFLAVIN (mg)</th>\n",
              "      <th>NILASIN(mg)</th>\n",
              "      <th>VITAMIN C (mg)</th>\n",
              "      <th>ARTIK (%)</th>\n",
              "      <th>KAFEIN(mg/100 mL)</th>\n",
              "    </tr>\n",
              "  </thead>\n",
              "  <tbody>\n",
              "    <tr>\n",
              "      <th>0</th>\n",
              "      <td>ET VE ÜRÜNLERİ:</td>\n",
              "      <td>NaN</td>\n",
              "      <td>NaN</td>\n",
              "      <td>NaN</td>\n",
              "      <td>NaN</td>\n",
              "      <td>NaN</td>\n",
              "      <td>NaN</td>\n",
              "      <td>NaN</td>\n",
              "      <td>NaN</td>\n",
              "      <td>NaN</td>\n",
              "      <td>NaN</td>\n",
              "      <td>NaN</td>\n",
              "      <td>NaN</td>\n",
              "      <td>NaN</td>\n",
              "      <td>NaN</td>\n",
              "      <td>NaN</td>\n",
              "      <td>NaN</td>\n",
              "      <td>NaN</td>\n",
              "      <td>NaN</td>\n",
              "      <td>NaN</td>\n",
              "    </tr>\n",
              "    <tr>\n",
              "      <th>1</th>\n",
              "      <td>BILDIRCIN</td>\n",
              "      <td>70.0</td>\n",
              "      <td>192.0</td>\n",
              "      <td>19.6</td>\n",
              "      <td>12.1</td>\n",
              "      <td>0.0</td>\n",
              "      <td>0.0</td>\n",
              "      <td>0.9</td>\n",
              "      <td>13</td>\n",
              "      <td>4.0</td>\n",
              "      <td>275.0</td>\n",
              "      <td>216</td>\n",
              "      <td>53</td>\n",
              "      <td>243</td>\n",
              "      <td>0.24</td>\n",
              "      <td>0.26</td>\n",
              "      <td>7.5</td>\n",
              "      <td>6.0</td>\n",
              "      <td>10.0</td>\n",
              "      <td>0</td>\n",
              "    </tr>\n",
              "    <tr>\n",
              "      <th>2</th>\n",
              "      <td>GUVERCIN</td>\n",
              "      <td>57.0</td>\n",
              "      <td>294.0</td>\n",
              "      <td>18.5</td>\n",
              "      <td>23.8</td>\n",
              "      <td>0.0</td>\n",
              "      <td>0.0</td>\n",
              "      <td>1.4</td>\n",
              "      <td></td>\n",
              "      <td>NaN</td>\n",
              "      <td>NaN</td>\n",
              "      <td>NaN</td>\n",
              "      <td>NaN</td>\n",
              "      <td>NaN</td>\n",
              "      <td>NaN</td>\n",
              "      <td>NaN</td>\n",
              "      <td>NaN</td>\n",
              "      <td>NaN</td>\n",
              "      <td>23.0</td>\n",
              "      <td>0</td>\n",
              "    </tr>\n",
              "    <tr>\n",
              "      <th>3</th>\n",
              "      <td>SULUN</td>\n",
              "      <td>68.0</td>\n",
              "      <td>181.0</td>\n",
              "      <td>22.7</td>\n",
              "      <td>9.3</td>\n",
              "      <td>0.0</td>\n",
              "      <td>0.0</td>\n",
              "      <td>1.3</td>\n",
              "      <td>12</td>\n",
              "      <td>1.2</td>\n",
              "      <td>214.0</td>\n",
              "      <td>243</td>\n",
              "      <td>40</td>\n",
              "      <td>177</td>\n",
              "      <td>0.07</td>\n",
              "      <td>0.14</td>\n",
              "      <td>6.4</td>\n",
              "      <td>5.0</td>\n",
              "      <td>14.0</td>\n",
              "      <td>0</td>\n",
              "    </tr>\n",
              "    <tr>\n",
              "      <th>4</th>\n",
              "      <td>TAVSAN</td>\n",
              "      <td>70.0</td>\n",
              "      <td>162.0</td>\n",
              "      <td>21.0</td>\n",
              "      <td>8.0</td>\n",
              "      <td>0.0</td>\n",
              "      <td>0.0</td>\n",
              "      <td>1</td>\n",
              "      <td>20</td>\n",
              "      <td>1.3</td>\n",
              "      <td>352.0</td>\n",
              "      <td>385</td>\n",
              "      <td>43</td>\n",
              "      <td>NaN</td>\n",
              "      <td>0.08</td>\n",
              "      <td>0.06</td>\n",
              "      <td>12.8</td>\n",
              "      <td>NaN</td>\n",
              "      <td>21.0</td>\n",
              "      <td>0</td>\n",
              "    </tr>\n",
              "    <tr>\n",
              "      <th>5</th>\n",
              "      <td>ALABALIK</td>\n",
              "      <td>70.6</td>\n",
              "      <td>168.0</td>\n",
              "      <td>18.3</td>\n",
              "      <td>10.0</td>\n",
              "      <td>0.0</td>\n",
              "      <td>0.0</td>\n",
              "      <td>1.1</td>\n",
              "      <td>NaN</td>\n",
              "      <td>0.8</td>\n",
              "      <td>238.0</td>\n",
              "      <td>NaN</td>\n",
              "      <td>NaN</td>\n",
              "      <td>NaN</td>\n",
              "      <td>0.05</td>\n",
              "      <td>0.12</td>\n",
              "      <td>2.7</td>\n",
              "      <td>NaN</td>\n",
              "      <td>63.0</td>\n",
              "      <td>0</td>\n",
              "    </tr>\n",
              "    <tr>\n",
              "      <th>6</th>\n",
              "      <td>BALIK UNU</td>\n",
              "      <td>2.0</td>\n",
              "      <td>336.0</td>\n",
              "      <td>78.0</td>\n",
              "      <td>0.3</td>\n",
              "      <td>NaN</td>\n",
              "      <td>0.0</td>\n",
              "      <td>19.7</td>\n",
              "      <td>4610</td>\n",
              "      <td>41.0</td>\n",
              "      <td>3100.0</td>\n",
              "      <td>430</td>\n",
              "      <td>170</td>\n",
              "      <td>NaN</td>\n",
              "      <td>0.07</td>\n",
              "      <td>0.62</td>\n",
              "      <td>22</td>\n",
              "      <td>NaN</td>\n",
              "      <td>0.0</td>\n",
              "      <td>0</td>\n",
              "    </tr>\n",
              "    <tr>\n",
              "      <th>7</th>\n",
              "      <td>KALKAN</td>\n",
              "      <td>71.4</td>\n",
              "      <td>193.0</td>\n",
              "      <td>14.8</td>\n",
              "      <td>14.4</td>\n",
              "      <td>0.0</td>\n",
              "      <td>0.0</td>\n",
              "      <td>NaN</td>\n",
              "      <td>NaN</td>\n",
              "      <td>NaN</td>\n",
              "      <td>NaN</td>\n",
              "      <td>NaN</td>\n",
              "      <td>NaN</td>\n",
              "      <td>NaN</td>\n",
              "      <td>0.02</td>\n",
              "      <td>0.14</td>\n",
              "      <td>NaN</td>\n",
              "      <td>NaN</td>\n",
              "      <td>NaN</td>\n",
              "      <td>0</td>\n",
              "    </tr>\n",
              "    <tr>\n",
              "      <th>8</th>\n",
              "      <td>KILIC</td>\n",
              "      <td>64.6</td>\n",
              "      <td>164.0</td>\n",
              "      <td>26.3</td>\n",
              "      <td>5.6</td>\n",
              "      <td>NaN</td>\n",
              "      <td>0.0</td>\n",
              "      <td>1.3</td>\n",
              "      <td>17</td>\n",
              "      <td>1.2</td>\n",
              "      <td>258.0</td>\n",
              "      <td>NaN</td>\n",
              "      <td>NaN</td>\n",
              "      <td>1928</td>\n",
              "      <td>0.03</td>\n",
              "      <td>0.04</td>\n",
              "      <td>10.3</td>\n",
              "      <td>NaN</td>\n",
              "      <td>NaN</td>\n",
              "      <td>0</td>\n",
              "    </tr>\n",
              "    <tr>\n",
              "      <th>9</th>\n",
              "      <td>LEVREK</td>\n",
              "      <td>79.3</td>\n",
              "      <td>93.0</td>\n",
              "      <td>19.2</td>\n",
              "      <td>1.2</td>\n",
              "      <td>0.0</td>\n",
              "      <td>0.0</td>\n",
              "      <td>1.2</td>\n",
              "      <td>21</td>\n",
              "      <td>1.1</td>\n",
              "      <td>180.0</td>\n",
              "      <td>256</td>\n",
              "      <td>68</td>\n",
              "      <td>NaN</td>\n",
              "      <td>0.07</td>\n",
              "      <td>0.07</td>\n",
              "      <td>14.2</td>\n",
              "      <td>NaN</td>\n",
              "      <td>61.0</td>\n",
              "      <td>0</td>\n",
              "    </tr>\n",
              "    <tr>\n",
              "      <th>10</th>\n",
              "      <td>MERSIN</td>\n",
              "      <td>79.7</td>\n",
              "      <td>96.0</td>\n",
              "      <td>17.7</td>\n",
              "      <td>2.3</td>\n",
              "      <td>0.0</td>\n",
              "      <td>0.0</td>\n",
              "      <td>1.1</td>\n",
              "      <td>12</td>\n",
              "      <td>0.5</td>\n",
              "      <td>206.0</td>\n",
              "      <td>319</td>\n",
              "      <td>47</td>\n",
              "      <td>NaN</td>\n",
              "      <td>0.09</td>\n",
              "      <td>0.1</td>\n",
              "      <td>3.3</td>\n",
              "      <td>NaN</td>\n",
              "      <td>48.0</td>\n",
              "      <td>0</td>\n",
              "    </tr>\n",
              "    <tr>\n",
              "      <th>11</th>\n",
              "      <td>PALAMUT</td>\n",
              "      <td>67.6</td>\n",
              "      <td>168.0</td>\n",
              "      <td>24.0</td>\n",
              "      <td>7.3</td>\n",
              "      <td>0.0</td>\n",
              "      <td>0.0</td>\n",
              "      <td>1.4</td>\n",
              "      <td>NaN</td>\n",
              "      <td>NaN</td>\n",
              "      <td>NaN</td>\n",
              "      <td></td>\n",
              "      <td></td>\n",
              "      <td>NaN</td>\n",
              "      <td>NaN</td>\n",
              "      <td>NaN</td>\n",
              "      <td>NaN</td>\n",
              "      <td>NaN</td>\n",
              "      <td>42.0</td>\n",
              "      <td>0</td>\n",
              "    </tr>\n",
              "    <tr>\n",
              "      <th>12</th>\n",
              "      <td>SARDALYA</td>\n",
              "      <td>70.7</td>\n",
              "      <td>160.0</td>\n",
              "      <td>19.2</td>\n",
              "      <td>8.6</td>\n",
              "      <td>0.0</td>\n",
              "      <td>0.0</td>\n",
              "      <td>2.4</td>\n",
              "      <td>33</td>\n",
              "      <td>1.8</td>\n",
              "      <td>215.0</td>\n",
              "      <td></td>\n",
              "      <td></td>\n",
              "      <td>NaN</td>\n",
              "      <td>NaN</td>\n",
              "      <td>NaN</td>\n",
              "      <td>NaN</td>\n",
              "      <td>NaN</td>\n",
              "      <td>NaN</td>\n",
              "      <td>0</td>\n",
              "    </tr>\n",
              "    <tr>\n",
              "      <th>13</th>\n",
              "      <td>SARDALYA(KONSERVE)</td>\n",
              "      <td>61.8</td>\n",
              "      <td>205.0</td>\n",
              "      <td>24.0</td>\n",
              "      <td>11.0</td>\n",
              "      <td>0.0</td>\n",
              "      <td>0.0</td>\n",
              "      <td></td>\n",
              "      <td>435</td>\n",
              "      <td>3.0</td>\n",
              "      <td>NaN</td>\n",
              "      <td>590</td>\n",
              "      <td>825</td>\n",
              "      <td>200</td>\n",
              "      <td>0.05</td>\n",
              "      <td>0.2</td>\n",
              "      <td>5.5</td>\n",
              "      <td>NaN</td>\n",
              "      <td>0.0</td>\n",
              "      <td>0</td>\n",
              "    </tr>\n",
              "    <tr>\n",
              "      <th>14</th>\n",
              "      <td>TUZLU BALIK</td>\n",
              "      <td>43.0</td>\n",
              "      <td>305.0</td>\n",
              "      <td>18.5</td>\n",
              "      <td>25.1</td>\n",
              "      <td>0.0</td>\n",
              "      <td>0.0</td>\n",
              "      <td>13</td>\n",
              "      <td>NaN</td>\n",
              "      <td>NaN</td>\n",
              "      <td>NaN</td>\n",
              "      <td></td>\n",
              "      <td></td>\n",
              "      <td></td>\n",
              "      <td></td>\n",
              "      <td></td>\n",
              "      <td></td>\n",
              "      <td>NaN</td>\n",
              "      <td>NaN</td>\n",
              "      <td>0</td>\n",
              "    </tr>\n",
              "    <tr>\n",
              "      <th>15</th>\n",
              "      <td>USKUMRU</td>\n",
              "      <td>69.8</td>\n",
              "      <td>159.0</td>\n",
              "      <td>21.9</td>\n",
              "      <td>7.3</td>\n",
              "      <td>0.0</td>\n",
              "      <td>0.0</td>\n",
              "      <td>1.4</td>\n",
              "      <td>8</td>\n",
              "      <td>2.1</td>\n",
              "      <td>274.0</td>\n",
              "      <td></td>\n",
              "      <td></td>\n",
              "      <td>120</td>\n",
              "      <td></td>\n",
              "      <td></td>\n",
              "      <td></td>\n",
              "      <td>NaN</td>\n",
              "      <td>28.0</td>\n",
              "      <td>0</td>\n",
              "    </tr>\n",
              "    <tr>\n",
              "      <th>16</th>\n",
              "      <td>HAVYAR</td>\n",
              "      <td>46.0</td>\n",
              "      <td>262.0</td>\n",
              "      <td>26.9</td>\n",
              "      <td>15.0</td>\n",
              "      <td>3.3</td>\n",
              "      <td>0.0</td>\n",
              "      <td>8.8</td>\n",
              "      <td>276</td>\n",
              "      <td>11.8</td>\n",
              "      <td>355.0</td>\n",
              "      <td>180</td>\n",
              "      <td>2200</td>\n",
              "      <td></td>\n",
              "      <td></td>\n",
              "      <td></td>\n",
              "      <td></td>\n",
              "      <td>NaN</td>\n",
              "      <td>NaN</td>\n",
              "      <td>0</td>\n",
              "    </tr>\n",
              "    <tr>\n",
              "      <th>17</th>\n",
              "      <td>ISTAKOZ</td>\n",
              "      <td>78.5</td>\n",
              "      <td>91.0</td>\n",
              "      <td>16.9</td>\n",
              "      <td>1.9</td>\n",
              "      <td>0.5</td>\n",
              "      <td>0.0</td>\n",
              "      <td>2.2</td>\n",
              "      <td>29</td>\n",
              "      <td>0.6</td>\n",
              "      <td>183.0</td>\n",
              "      <td></td>\n",
              "      <td></td>\n",
              "      <td></td>\n",
              "      <td>0.4</td>\n",
              "      <td>0.05</td>\n",
              "      <td>1.5</td>\n",
              "      <td>NaN</td>\n",
              "      <td>74.0</td>\n",
              "      <td>0</td>\n",
              "    </tr>\n",
              "    <tr>\n",
              "      <th>18</th>\n",
              "      <td>KARIDES</td>\n",
              "      <td>78.2</td>\n",
              "      <td>91.0</td>\n",
              "      <td>18.1</td>\n",
              "      <td>0.8</td>\n",
              "      <td>1.5</td>\n",
              "      <td>0.0</td>\n",
              "      <td>1.4</td>\n",
              "      <td>63</td>\n",
              "      <td>1.6</td>\n",
              "      <td>166.0</td>\n",
              "      <td>220</td>\n",
              "      <td>140</td>\n",
              "      <td></td>\n",
              "      <td>0.02</td>\n",
              "      <td>0.03</td>\n",
              "      <td>3.2</td>\n",
              "      <td>NaN</td>\n",
              "      <td>31.0</td>\n",
              "      <td>0</td>\n",
              "    </tr>\n",
              "    <tr>\n",
              "      <th>19</th>\n",
              "      <td>MIDYE</td>\n",
              "      <td>78.6</td>\n",
              "      <td>95.0</td>\n",
              "      <td>14.4</td>\n",
              "      <td>2.2</td>\n",
              "      <td>3.3</td>\n",
              "      <td>0.0</td>\n",
              "      <td>1.5</td>\n",
              "      <td>88</td>\n",
              "      <td>3.4</td>\n",
              "      <td>236.0</td>\n",
              "      <td>315</td>\n",
              "      <td>289</td>\n",
              "      <td></td>\n",
              "      <td>0.16</td>\n",
              "      <td>0.21</td>\n",
              "      <td>NaN</td>\n",
              "      <td>NaN</td>\n",
              "      <td>49.0</td>\n",
              "      <td>0</td>\n",
              "    </tr>\n",
              "    <tr>\n",
              "      <th>20</th>\n",
              "      <td>DANA ETI:</td>\n",
              "      <td>NaN</td>\n",
              "      <td>NaN</td>\n",
              "      <td>NaN</td>\n",
              "      <td>NaN</td>\n",
              "      <td>NaN</td>\n",
              "      <td>NaN</td>\n",
              "      <td>NaN</td>\n",
              "      <td>NaN</td>\n",
              "      <td>NaN</td>\n",
              "      <td>NaN</td>\n",
              "      <td>NaN</td>\n",
              "      <td>NaN</td>\n",
              "      <td>NaN</td>\n",
              "      <td>NaN</td>\n",
              "      <td>NaN</td>\n",
              "      <td>NaN</td>\n",
              "      <td>NaN</td>\n",
              "      <td>NaN</td>\n",
              "      <td>0</td>\n",
              "    </tr>\n",
              "    <tr>\n",
              "      <th>21</th>\n",
              "      <td>DANA ETI (AZ YAGLI)</td>\n",
              "      <td>71.0</td>\n",
              "      <td>156.0</td>\n",
              "      <td>19.7</td>\n",
              "      <td>8.0</td>\n",
              "      <td>0.0</td>\n",
              "      <td>0.0</td>\n",
              "      <td>1</td>\n",
              "      <td>11</td>\n",
              "      <td>3.0</td>\n",
              "      <td>201.0</td>\n",
              "      <td>500</td>\n",
              "      <td>80</td>\n",
              "      <td></td>\n",
              "      <td>0.14</td>\n",
              "      <td>0.26</td>\n",
              "      <td>6.6</td>\n",
              "      <td>NaN</td>\n",
              "      <td>20.0</td>\n",
              "      <td>0</td>\n",
              "    </tr>\n",
              "    <tr>\n",
              "      <th>22</th>\n",
              "      <td>DANA ETI  (ORTA YAGLI)</td>\n",
              "      <td>68.0</td>\n",
              "      <td>190.0</td>\n",
              "      <td>19.1</td>\n",
              "      <td>12.0</td>\n",
              "      <td>0.0</td>\n",
              "      <td>0.0</td>\n",
              "      <td>1</td>\n",
              "      <td>11</td>\n",
              "      <td>2.9</td>\n",
              "      <td>193.0</td>\n",
              "      <td>500</td>\n",
              "      <td>80</td>\n",
              "      <td></td>\n",
              "      <td>0.14</td>\n",
              "      <td>0.25</td>\n",
              "      <td>6.4</td>\n",
              "      <td>NaN</td>\n",
              "      <td>20.0</td>\n",
              "      <td>0</td>\n",
              "    </tr>\n",
              "    <tr>\n",
              "      <th>23</th>\n",
              "      <td>DANA ETI  (YAGLI)</td>\n",
              "      <td>65.0</td>\n",
              "      <td>223.0</td>\n",
              "      <td>18.5</td>\n",
              "      <td>16.0</td>\n",
              "      <td>0.0</td>\n",
              "      <td>0.0</td>\n",
              "      <td>0.9</td>\n",
              "      <td>11</td>\n",
              "      <td>2.8</td>\n",
              "      <td>185.0</td>\n",
              "      <td>500</td>\n",
              "      <td>80</td>\n",
              "      <td></td>\n",
              "      <td>0.14</td>\n",
              "      <td>0.25</td>\n",
              "      <td>6.2</td>\n",
              "      <td>NaN</td>\n",
              "      <td>20.0</td>\n",
              "      <td>0</td>\n",
              "    </tr>\n",
              "    <tr>\n",
              "      <th>24</th>\n",
              "      <td>DOMUZ ETI:</td>\n",
              "      <td>NaN</td>\n",
              "      <td>NaN</td>\n",
              "      <td>NaN</td>\n",
              "      <td>NaN</td>\n",
              "      <td>NaN</td>\n",
              "      <td>NaN</td>\n",
              "      <td>NaN</td>\n",
              "      <td>NaN</td>\n",
              "      <td>NaN</td>\n",
              "      <td>NaN</td>\n",
              "      <td>NaN</td>\n",
              "      <td>NaN</td>\n",
              "      <td>NaN</td>\n",
              "      <td>NaN</td>\n",
              "      <td>NaN</td>\n",
              "      <td>NaN</td>\n",
              "      <td>NaN</td>\n",
              "      <td>NaN</td>\n",
              "      <td>NaN</td>\n",
              "    </tr>\n",
              "    <tr>\n",
              "      <th>25</th>\n",
              "      <td>DOMUZ ETI (AZ YAGLI)</td>\n",
              "      <td>41.1</td>\n",
              "      <td>472.0</td>\n",
              "      <td>11.2</td>\n",
              "      <td>47.0</td>\n",
              "      <td>0.0</td>\n",
              "      <td>0.0</td>\n",
              "      <td>0.6</td>\n",
              "      <td>6</td>\n",
              "      <td>1.7</td>\n",
              "      <td>116.0</td>\n",
              "      <td>326</td>\n",
              "      <td>930</td>\n",
              "      <td></td>\n",
              "      <td>0.54</td>\n",
              "      <td>0.13</td>\n",
              "      <td>2.9</td>\n",
              "      <td>NaN</td>\n",
              "      <td>21.0</td>\n",
              "      <td>0</td>\n",
              "    </tr>\n",
              "    <tr>\n",
              "      <th>26</th>\n",
              "      <td>DOMUZ ETI (ORTA YAGLI)</td>\n",
              "      <td>37.3</td>\n",
              "      <td>513.0</td>\n",
              "      <td>10.2</td>\n",
              "      <td>52.0</td>\n",
              "      <td>0.0</td>\n",
              "      <td>0.0</td>\n",
              "      <td>0.5</td>\n",
              "      <td>6</td>\n",
              "      <td>1.5</td>\n",
              "      <td>103.0</td>\n",
              "      <td>326</td>\n",
              "      <td>930</td>\n",
              "      <td></td>\n",
              "      <td>0.5</td>\n",
              "      <td>0.12</td>\n",
              "      <td>2.7</td>\n",
              "      <td>NaN</td>\n",
              "      <td>21.0</td>\n",
              "      <td>0</td>\n",
              "    </tr>\n",
              "    <tr>\n",
              "      <th>27</th>\n",
              "      <td>DOMUZ ETI (YAGLI)</td>\n",
              "      <td>33.4</td>\n",
              "      <td>553.0</td>\n",
              "      <td>9.1</td>\n",
              "      <td>57.0</td>\n",
              "      <td>0.0</td>\n",
              "      <td>0.0</td>\n",
              "      <td>0.5</td>\n",
              "      <td>5</td>\n",
              "      <td>1.4</td>\n",
              "      <td>88.0</td>\n",
              "      <td>326</td>\n",
              "      <td>930</td>\n",
              "      <td></td>\n",
              "      <td>0.44</td>\n",
              "      <td>0.1</td>\n",
              "      <td>2.4</td>\n",
              "      <td>NaN</td>\n",
              "      <td>21.0</td>\n",
              "      <td>0</td>\n",
              "    </tr>\n",
              "    <tr>\n",
              "      <th>28</th>\n",
              "      <td>KOYUN ETI:</td>\n",
              "      <td>NaN</td>\n",
              "      <td>NaN</td>\n",
              "      <td>NaN</td>\n",
              "      <td>NaN</td>\n",
              "      <td>NaN</td>\n",
              "      <td>NaN</td>\n",
              "      <td>NaN</td>\n",
              "      <td>NaN</td>\n",
              "      <td>NaN</td>\n",
              "      <td>NaN</td>\n",
              "      <td>NaN</td>\n",
              "      <td>NaN</td>\n",
              "      <td>NaN</td>\n",
              "      <td>NaN</td>\n",
              "      <td>NaN</td>\n",
              "      <td>NaN</td>\n",
              "      <td>NaN</td>\n",
              "      <td>NaN</td>\n",
              "      <td>0</td>\n",
              "    </tr>\n",
              "    <tr>\n",
              "      <th>29</th>\n",
              "      <td>KOYUN ETI (AZ YAGLI)</td>\n",
              "      <td>62.5</td>\n",
              "      <td>247.0</td>\n",
              "      <td>16.8</td>\n",
              "      <td>19.4</td>\n",
              "      <td>0.0</td>\n",
              "      <td>0.0</td>\n",
              "      <td>1.3</td>\n",
              "      <td>10</td>\n",
              "      <td>1.3</td>\n",
              "      <td>151.0</td>\n",
              "      <td>290</td>\n",
              "      <td>70</td>\n",
              "      <td></td>\n",
              "      <td>0.15</td>\n",
              "      <td>0.21</td>\n",
              "      <td>4.9</td>\n",
              "      <td>NaN</td>\n",
              "      <td>16.0</td>\n",
              "      <td>0</td>\n",
              "    </tr>\n",
              "  </tbody>\n",
              "</table>\n",
              "</div>"
            ],
            "text/plain": [
              "                  BESINLER  SU(g)  ...  ARTIK (%)  KAFEIN(mg/100 mL)\n",
              "0          ET VE ÜRÜNLERİ:    NaN  ...        NaN                NaN\n",
              "1                BILDIRCIN   70.0  ...       10.0                  0\n",
              "2                 GUVERCIN   57.0  ...       23.0                  0\n",
              "3                    SULUN   68.0  ...       14.0                  0\n",
              "4                   TAVSAN   70.0  ...       21.0                  0\n",
              "5                 ALABALIK   70.6  ...       63.0                  0\n",
              "6                BALIK UNU    2.0  ...        0.0                  0\n",
              "7                   KALKAN   71.4  ...        NaN                  0\n",
              "8                    KILIC   64.6  ...        NaN                  0\n",
              "9                   LEVREK   79.3  ...       61.0                  0\n",
              "10                  MERSIN   79.7  ...       48.0                  0\n",
              "11                 PALAMUT   67.6  ...       42.0                  0\n",
              "12                SARDALYA   70.7  ...        NaN                  0\n",
              "13      SARDALYA(KONSERVE)   61.8  ...        0.0                  0\n",
              "14             TUZLU BALIK   43.0  ...        NaN                  0\n",
              "15                 USKUMRU   69.8  ...       28.0                  0\n",
              "16                  HAVYAR   46.0  ...        NaN                  0\n",
              "17                 ISTAKOZ   78.5  ...       74.0                  0\n",
              "18                 KARIDES   78.2  ...       31.0                  0\n",
              "19                   MIDYE   78.6  ...       49.0                  0\n",
              "20               DANA ETI:    NaN  ...        NaN                  0\n",
              "21     DANA ETI (AZ YAGLI)   71.0  ...       20.0                  0\n",
              "22  DANA ETI  (ORTA YAGLI)   68.0  ...       20.0                  0\n",
              "23       DANA ETI  (YAGLI)   65.0  ...       20.0                  0\n",
              "24              DOMUZ ETI:    NaN  ...        NaN                NaN\n",
              "25    DOMUZ ETI (AZ YAGLI)   41.1  ...       21.0                  0\n",
              "26  DOMUZ ETI (ORTA YAGLI)   37.3  ...       21.0                  0\n",
              "27       DOMUZ ETI (YAGLI)   33.4  ...       21.0                  0\n",
              "28              KOYUN ETI:    NaN  ...        NaN                  0\n",
              "29    KOYUN ETI (AZ YAGLI)   62.5  ...       16.0                  0\n",
              "\n",
              "[30 rows x 20 columns]"
            ]
          },
          "metadata": {
            "tags": []
          },
          "execution_count": 79
        }
      ]
    },
    {
      "cell_type": "code",
      "metadata": {
        "id": "ifT0CVOKzCHP",
        "colab": {
          "base_uri": "https://localhost:8080/",
          "height": 1000
        },
        "outputId": "fb0a524f-7f12-47b6-b769-185c9160677f"
      },
      "source": [
        "# son 30 veri#\n",
        "data.tail(30)"
      ],
      "execution_count": null,
      "outputs": [
        {
          "output_type": "execute_result",
          "data": {
            "text/html": [
              "<div>\n",
              "<style scoped>\n",
              "    .dataframe tbody tr th:only-of-type {\n",
              "        vertical-align: middle;\n",
              "    }\n",
              "\n",
              "    .dataframe tbody tr th {\n",
              "        vertical-align: top;\n",
              "    }\n",
              "\n",
              "    .dataframe thead th {\n",
              "        text-align: right;\n",
              "    }\n",
              "</style>\n",
              "<table border=\"1\" class=\"dataframe\">\n",
              "  <thead>\n",
              "    <tr style=\"text-align: right;\">\n",
              "      <th></th>\n",
              "      <th>BESINLER</th>\n",
              "      <th>SU(g)</th>\n",
              "      <th>ENERJI(g)</th>\n",
              "      <th>PROTEIN(g)</th>\n",
              "      <th>YAG(g)</th>\n",
              "      <th>KARBONHIDRAT(g)</th>\n",
              "      <th>POSA(g)</th>\n",
              "      <th>KUL(g)</th>\n",
              "      <th>KALSIYUM(g)</th>\n",
              "      <th>DEMIR(g)</th>\n",
              "      <th>FOSFOR(g)</th>\n",
              "      <th>POTASYUM(g)</th>\n",
              "      <th>SODYUM(g)</th>\n",
              "      <th>VITAMİN A ve KAROTEIN IU</th>\n",
              "      <th>TIAMIN (mg)</th>\n",
              "      <th>RIBOFLAVIN (mg)</th>\n",
              "      <th>NILASIN(mg)</th>\n",
              "      <th>VITAMIN C (mg)</th>\n",
              "      <th>ARTIK (%)</th>\n",
              "      <th>KAFEIN(mg/100 mL)</th>\n",
              "      <th>KAYNAK NO.</th>\n",
              "    </tr>\n",
              "  </thead>\n",
              "  <tbody>\n",
              "    <tr>\n",
              "      <th>418</th>\n",
              "      <td>LIKORLER(AHUDUDU)</td>\n",
              "      <td>NaN</td>\n",
              "      <td>274.0</td>\n",
              "      <td>0.0</td>\n",
              "      <td>NaN</td>\n",
              "      <td>24.7</td>\n",
              "      <td>NaN</td>\n",
              "      <td>NaN</td>\n",
              "      <td>NaN</td>\n",
              "      <td>NaN</td>\n",
              "      <td>NaN</td>\n",
              "      <td>NaN</td>\n",
              "      <td>NaN</td>\n",
              "      <td>NaN</td>\n",
              "      <td>NaN</td>\n",
              "      <td>NaN</td>\n",
              "      <td>NaN</td>\n",
              "      <td>NaN</td>\n",
              "      <td>NaN</td>\n",
              "      <td>0</td>\n",
              "      <td>NaN</td>\n",
              "    </tr>\n",
              "    <tr>\n",
              "      <th>419</th>\n",
              "      <td>LIKORLER(NANE)</td>\n",
              "      <td>NaN</td>\n",
              "      <td>356.0</td>\n",
              "      <td>0.0</td>\n",
              "      <td>NaN</td>\n",
              "      <td>36.5</td>\n",
              "      <td>NaN</td>\n",
              "      <td>NaN</td>\n",
              "      <td>NaN</td>\n",
              "      <td>NaN</td>\n",
              "      <td>NaN</td>\n",
              "      <td>NaN</td>\n",
              "      <td>NaN</td>\n",
              "      <td>NaN</td>\n",
              "      <td>NaN</td>\n",
              "      <td>NaN</td>\n",
              "      <td>NaN</td>\n",
              "      <td>NaN</td>\n",
              "      <td>NaN</td>\n",
              "      <td>0</td>\n",
              "      <td>NaN</td>\n",
              "    </tr>\n",
              "    <tr>\n",
              "      <th>420</th>\n",
              "      <td>LIKORLER(PORTAKAL)</td>\n",
              "      <td>NaN</td>\n",
              "      <td>400.0</td>\n",
              "      <td>0.0</td>\n",
              "      <td>NaN</td>\n",
              "      <td>30.0</td>\n",
              "      <td>NaN</td>\n",
              "      <td>NaN</td>\n",
              "      <td>NaN</td>\n",
              "      <td>NaN</td>\n",
              "      <td>NaN</td>\n",
              "      <td>NaN</td>\n",
              "      <td>NaN</td>\n",
              "      <td>NaN</td>\n",
              "      <td>NaN</td>\n",
              "      <td>NaN</td>\n",
              "      <td>NaN</td>\n",
              "      <td>NaN</td>\n",
              "      <td>NaN</td>\n",
              "      <td>0</td>\n",
              "      <td>NaN</td>\n",
              "    </tr>\n",
              "    <tr>\n",
              "      <th>421</th>\n",
              "      <td>LIKORLER(MUZ)</td>\n",
              "      <td>NaN</td>\n",
              "      <td>315.0</td>\n",
              "      <td>0.0</td>\n",
              "      <td>NaN</td>\n",
              "      <td>35.0</td>\n",
              "      <td>NaN</td>\n",
              "      <td>NaN</td>\n",
              "      <td>NaN</td>\n",
              "      <td>NaN</td>\n",
              "      <td>NaN</td>\n",
              "      <td>NaN</td>\n",
              "      <td>NaN</td>\n",
              "      <td>NaN</td>\n",
              "      <td>NaN</td>\n",
              "      <td>NaN</td>\n",
              "      <td>NaN</td>\n",
              "      <td>NaN</td>\n",
              "      <td>NaN</td>\n",
              "      <td>0</td>\n",
              "      <td>NaN</td>\n",
              "    </tr>\n",
              "    <tr>\n",
              "      <th>422</th>\n",
              "      <td>ALKOLSUZ ICECEKLER:</td>\n",
              "      <td>NaN</td>\n",
              "      <td>NaN</td>\n",
              "      <td>NaN</td>\n",
              "      <td>NaN</td>\n",
              "      <td>NaN</td>\n",
              "      <td>NaN</td>\n",
              "      <td>NaN</td>\n",
              "      <td>NaN</td>\n",
              "      <td>NaN</td>\n",
              "      <td>NaN</td>\n",
              "      <td>NaN</td>\n",
              "      <td>NaN</td>\n",
              "      <td>NaN</td>\n",
              "      <td>NaN</td>\n",
              "      <td>NaN</td>\n",
              "      <td>NaN</td>\n",
              "      <td>NaN</td>\n",
              "      <td>NaN</td>\n",
              "      <td>0</td>\n",
              "      <td>NaN</td>\n",
              "    </tr>\n",
              "    <tr>\n",
              "      <th>423</th>\n",
              "      <td>ADACAYI(KURU)</td>\n",
              "      <td>7.9</td>\n",
              "      <td>315.0</td>\n",
              "      <td>12.7</td>\n",
              "      <td>12.7</td>\n",
              "      <td>60.7</td>\n",
              "      <td>NaN</td>\n",
              "      <td>7.9</td>\n",
              "      <td>NaN</td>\n",
              "      <td>NaN</td>\n",
              "      <td>NaN</td>\n",
              "      <td>NaN</td>\n",
              "      <td>NaN</td>\n",
              "      <td>NaN</td>\n",
              "      <td>NaN</td>\n",
              "      <td>NaN</td>\n",
              "      <td>NaN</td>\n",
              "      <td>NaN</td>\n",
              "      <td>NaN</td>\n",
              "      <td>0</td>\n",
              "      <td>NaN</td>\n",
              "    </tr>\n",
              "    <tr>\n",
              "      <th>424</th>\n",
              "      <td>ALKOLSUZ BIRA</td>\n",
              "      <td>89.5</td>\n",
              "      <td>41.0</td>\n",
              "      <td>NaN</td>\n",
              "      <td>NaN</td>\n",
              "      <td>10.5</td>\n",
              "      <td>NaN</td>\n",
              "      <td>NaN</td>\n",
              "      <td>NaN</td>\n",
              "      <td>NaN</td>\n",
              "      <td>NaN</td>\n",
              "      <td>NaN</td>\n",
              "      <td>NaN</td>\n",
              "      <td>NaN</td>\n",
              "      <td>NaN</td>\n",
              "      <td>NaN</td>\n",
              "      <td>NaN</td>\n",
              "      <td>NaN</td>\n",
              "      <td>NaN</td>\n",
              "      <td>0</td>\n",
              "      <td>NaN</td>\n",
              "    </tr>\n",
              "    <tr>\n",
              "      <th>425</th>\n",
              "      <td>CAY</td>\n",
              "      <td>3.8</td>\n",
              "      <td>294.0</td>\n",
              "      <td>NaN</td>\n",
              "      <td>NaN</td>\n",
              "      <td>80.5</td>\n",
              "      <td>NaN</td>\n",
              "      <td>6.1</td>\n",
              "      <td>NaN</td>\n",
              "      <td>NaN</td>\n",
              "      <td>NaN</td>\n",
              "      <td>NaN</td>\n",
              "      <td>NaN</td>\n",
              "      <td>NaN</td>\n",
              "      <td>NaN</td>\n",
              "      <td>NaN</td>\n",
              "      <td>NaN</td>\n",
              "      <td>NaN</td>\n",
              "      <td>NaN</td>\n",
              "      <td>0</td>\n",
              "      <td>NaN</td>\n",
              "    </tr>\n",
              "    <tr>\n",
              "      <th>426</th>\n",
              "      <td>IHLAMUR</td>\n",
              "      <td>91.0</td>\n",
              "      <td>42.0</td>\n",
              "      <td>1.4</td>\n",
              "      <td>1.4</td>\n",
              "      <td>6.7</td>\n",
              "      <td>NaN</td>\n",
              "      <td>NaN</td>\n",
              "      <td>NaN</td>\n",
              "      <td>NaN</td>\n",
              "      <td>NaN</td>\n",
              "      <td>NaN</td>\n",
              "      <td>NaN</td>\n",
              "      <td>NaN</td>\n",
              "      <td>NaN</td>\n",
              "      <td>NaN</td>\n",
              "      <td>NaN</td>\n",
              "      <td>NaN</td>\n",
              "      <td>NaN</td>\n",
              "      <td>0</td>\n",
              "      <td>NaN</td>\n",
              "    </tr>\n",
              "    <tr>\n",
              "      <th>427</th>\n",
              "      <td>KAHVE(CEKIRDEK)</td>\n",
              "      <td>NaN</td>\n",
              "      <td>290.0</td>\n",
              "      <td>16.5</td>\n",
              "      <td>16.5</td>\n",
              "      <td>22.7</td>\n",
              "      <td>NaN</td>\n",
              "      <td>NaN</td>\n",
              "      <td>NaN</td>\n",
              "      <td>NaN</td>\n",
              "      <td>NaN</td>\n",
              "      <td>NaN</td>\n",
              "      <td>NaN</td>\n",
              "      <td>NaN</td>\n",
              "      <td>NaN</td>\n",
              "      <td>NaN</td>\n",
              "      <td>NaN</td>\n",
              "      <td>NaN</td>\n",
              "      <td>NaN</td>\n",
              "      <td>0</td>\n",
              "      <td>NaN</td>\n",
              "    </tr>\n",
              "    <tr>\n",
              "      <th>428</th>\n",
              "      <td>KAHVE(INSTANT)</td>\n",
              "      <td>2.6</td>\n",
              "      <td>129.0</td>\n",
              "      <td>NaN</td>\n",
              "      <td>NaN</td>\n",
              "      <td>35.0</td>\n",
              "      <td>NaN</td>\n",
              "      <td>9.7</td>\n",
              "      <td>NaN</td>\n",
              "      <td>NaN</td>\n",
              "      <td>NaN</td>\n",
              "      <td>NaN</td>\n",
              "      <td>NaN</td>\n",
              "      <td>NaN</td>\n",
              "      <td>NaN</td>\n",
              "      <td>NaN</td>\n",
              "      <td>NaN</td>\n",
              "      <td>NaN</td>\n",
              "      <td>NaN</td>\n",
              "      <td>0</td>\n",
              "      <td>NaN</td>\n",
              "    </tr>\n",
              "    <tr>\n",
              "      <th>429</th>\n",
              "      <td>KOLALI GAZOZ</td>\n",
              "      <td>90.0</td>\n",
              "      <td>39.0</td>\n",
              "      <td>0.0</td>\n",
              "      <td>0.0</td>\n",
              "      <td>10.0</td>\n",
              "      <td>NaN</td>\n",
              "      <td>NaN</td>\n",
              "      <td>NaN</td>\n",
              "      <td>NaN</td>\n",
              "      <td>NaN</td>\n",
              "      <td>NaN</td>\n",
              "      <td>NaN</td>\n",
              "      <td>NaN</td>\n",
              "      <td>NaN</td>\n",
              "      <td>NaN</td>\n",
              "      <td>NaN</td>\n",
              "      <td>NaN</td>\n",
              "      <td>NaN</td>\n",
              "      <td>0</td>\n",
              "      <td>NaN</td>\n",
              "    </tr>\n",
              "    <tr>\n",
              "      <th>430</th>\n",
              "      <td>MADEN SUYU</td>\n",
              "      <td>100.0</td>\n",
              "      <td>NaN</td>\n",
              "      <td>0.0</td>\n",
              "      <td>0.0</td>\n",
              "      <td>NaN</td>\n",
              "      <td>NaN</td>\n",
              "      <td>NaN</td>\n",
              "      <td>NaN</td>\n",
              "      <td>NaN</td>\n",
              "      <td>NaN</td>\n",
              "      <td>NaN</td>\n",
              "      <td>NaN</td>\n",
              "      <td>NaN</td>\n",
              "      <td>NaN</td>\n",
              "      <td>NaN</td>\n",
              "      <td>NaN</td>\n",
              "      <td>NaN</td>\n",
              "      <td>NaN</td>\n",
              "      <td>0</td>\n",
              "      <td>NaN</td>\n",
              "    </tr>\n",
              "    <tr>\n",
              "      <th>431</th>\n",
              "      <td>MEYVELI SODALI ICECEK</td>\n",
              "      <td>88.0</td>\n",
              "      <td>46.0</td>\n",
              "      <td>0.0</td>\n",
              "      <td>0.0</td>\n",
              "      <td>12.0</td>\n",
              "      <td>NaN</td>\n",
              "      <td>NaN</td>\n",
              "      <td>NaN</td>\n",
              "      <td>NaN</td>\n",
              "      <td>NaN</td>\n",
              "      <td>NaN</td>\n",
              "      <td>NaN</td>\n",
              "      <td>NaN</td>\n",
              "      <td>NaN</td>\n",
              "      <td>NaN</td>\n",
              "      <td>NaN</td>\n",
              "      <td>NaN</td>\n",
              "      <td>NaN</td>\n",
              "      <td>0</td>\n",
              "      <td>NaN</td>\n",
              "    </tr>\n",
              "    <tr>\n",
              "      <th>432</th>\n",
              "      <td>COCACOLA</td>\n",
              "      <td>NaN</td>\n",
              "      <td>NaN</td>\n",
              "      <td>NaN</td>\n",
              "      <td>NaN</td>\n",
              "      <td>NaN</td>\n",
              "      <td>NaN</td>\n",
              "      <td>NaN</td>\n",
              "      <td>NaN</td>\n",
              "      <td>NaN</td>\n",
              "      <td>NaN</td>\n",
              "      <td>NaN</td>\n",
              "      <td>NaN</td>\n",
              "      <td>NaN</td>\n",
              "      <td>NaN</td>\n",
              "      <td>NaN</td>\n",
              "      <td>NaN</td>\n",
              "      <td>NaN</td>\n",
              "      <td>NaN</td>\n",
              "      <td>17.97</td>\n",
              "      <td>NaN</td>\n",
              "    </tr>\n",
              "    <tr>\n",
              "      <th>433</th>\n",
              "      <td>PEPSICOLA</td>\n",
              "      <td>NaN</td>\n",
              "      <td>NaN</td>\n",
              "      <td>NaN</td>\n",
              "      <td>NaN</td>\n",
              "      <td>NaN</td>\n",
              "      <td>NaN</td>\n",
              "      <td>NaN</td>\n",
              "      <td>NaN</td>\n",
              "      <td>NaN</td>\n",
              "      <td>NaN</td>\n",
              "      <td>NaN</td>\n",
              "      <td>NaN</td>\n",
              "      <td>NaN</td>\n",
              "      <td>NaN</td>\n",
              "      <td>NaN</td>\n",
              "      <td>NaN</td>\n",
              "      <td>NaN</td>\n",
              "      <td>NaN</td>\n",
              "      <td>11.98</td>\n",
              "      <td>NaN</td>\n",
              "    </tr>\n",
              "    <tr>\n",
              "      <th>434</th>\n",
              "      <td>DIET COLA</td>\n",
              "      <td>NaN</td>\n",
              "      <td>NaN</td>\n",
              "      <td>NaN</td>\n",
              "      <td>NaN</td>\n",
              "      <td>NaN</td>\n",
              "      <td>NaN</td>\n",
              "      <td>NaN</td>\n",
              "      <td>NaN</td>\n",
              "      <td>NaN</td>\n",
              "      <td>NaN</td>\n",
              "      <td>NaN</td>\n",
              "      <td>NaN</td>\n",
              "      <td>NaN</td>\n",
              "      <td>NaN</td>\n",
              "      <td>NaN</td>\n",
              "      <td>NaN</td>\n",
              "      <td>NaN</td>\n",
              "      <td>NaN</td>\n",
              "      <td>9.17</td>\n",
              "      <td>NaN</td>\n",
              "    </tr>\n",
              "    <tr>\n",
              "      <th>435</th>\n",
              "      <td>KAHVE</td>\n",
              "      <td>NaN</td>\n",
              "      <td>NaN</td>\n",
              "      <td>NaN</td>\n",
              "      <td>NaN</td>\n",
              "      <td>NaN</td>\n",
              "      <td>NaN</td>\n",
              "      <td>NaN</td>\n",
              "      <td>NaN</td>\n",
              "      <td>NaN</td>\n",
              "      <td>NaN</td>\n",
              "      <td>NaN</td>\n",
              "      <td>NaN</td>\n",
              "      <td>NaN</td>\n",
              "      <td>NaN</td>\n",
              "      <td>NaN</td>\n",
              "      <td>NaN</td>\n",
              "      <td>NaN</td>\n",
              "      <td>NaN</td>\n",
              "      <td>0</td>\n",
              "      <td>NaN</td>\n",
              "    </tr>\n",
              "    <tr>\n",
              "      <th>436</th>\n",
              "      <td>KOLA(INSTANT)</td>\n",
              "      <td>NaN</td>\n",
              "      <td>NaN</td>\n",
              "      <td>NaN</td>\n",
              "      <td>NaN</td>\n",
              "      <td>NaN</td>\n",
              "      <td>NaN</td>\n",
              "      <td>NaN</td>\n",
              "      <td>NaN</td>\n",
              "      <td>NaN</td>\n",
              "      <td>NaN</td>\n",
              "      <td>NaN</td>\n",
              "      <td>NaN</td>\n",
              "      <td>NaN</td>\n",
              "      <td>NaN</td>\n",
              "      <td>NaN</td>\n",
              "      <td>NaN</td>\n",
              "      <td>NaN</td>\n",
              "      <td>NaN</td>\n",
              "      <td>44</td>\n",
              "      <td>NaN</td>\n",
              "    </tr>\n",
              "    <tr>\n",
              "      <th>437</th>\n",
              "      <td>PERCOLATED</td>\n",
              "      <td>NaN</td>\n",
              "      <td>NaN</td>\n",
              "      <td>NaN</td>\n",
              "      <td>NaN</td>\n",
              "      <td>NaN</td>\n",
              "      <td>NaN</td>\n",
              "      <td>NaN</td>\n",
              "      <td>NaN</td>\n",
              "      <td>NaN</td>\n",
              "      <td>NaN</td>\n",
              "      <td>NaN</td>\n",
              "      <td>NaN</td>\n",
              "      <td>NaN</td>\n",
              "      <td>NaN</td>\n",
              "      <td>NaN</td>\n",
              "      <td>NaN</td>\n",
              "      <td>NaN</td>\n",
              "      <td>NaN</td>\n",
              "      <td>74</td>\n",
              "      <td>NaN</td>\n",
              "    </tr>\n",
              "    <tr>\n",
              "      <th>438</th>\n",
              "      <td>TURK KAHVESI</td>\n",
              "      <td>NaN</td>\n",
              "      <td>NaN</td>\n",
              "      <td>NaN</td>\n",
              "      <td>NaN</td>\n",
              "      <td>NaN</td>\n",
              "      <td>NaN</td>\n",
              "      <td>NaN</td>\n",
              "      <td>NaN</td>\n",
              "      <td>NaN</td>\n",
              "      <td>NaN</td>\n",
              "      <td>NaN</td>\n",
              "      <td>NaN</td>\n",
              "      <td>NaN</td>\n",
              "      <td>NaN</td>\n",
              "      <td>NaN</td>\n",
              "      <td>NaN</td>\n",
              "      <td>NaN</td>\n",
              "      <td>NaN</td>\n",
              "      <td>0</td>\n",
              "      <td>NaN</td>\n",
              "    </tr>\n",
              "    <tr>\n",
              "      <th>439</th>\n",
              "      <td>KAHVE(KAFEINI ALINMIS)</td>\n",
              "      <td>NaN</td>\n",
              "      <td>NaN</td>\n",
              "      <td>NaN</td>\n",
              "      <td>NaN</td>\n",
              "      <td>NaN</td>\n",
              "      <td>NaN</td>\n",
              "      <td>NaN</td>\n",
              "      <td>NaN</td>\n",
              "      <td>NaN</td>\n",
              "      <td>NaN</td>\n",
              "      <td>NaN</td>\n",
              "      <td>NaN</td>\n",
              "      <td>NaN</td>\n",
              "      <td>NaN</td>\n",
              "      <td>NaN</td>\n",
              "      <td>NaN</td>\n",
              "      <td>NaN</td>\n",
              "      <td>NaN</td>\n",
              "      <td>0</td>\n",
              "      <td>NaN</td>\n",
              "    </tr>\n",
              "    <tr>\n",
              "      <th>440</th>\n",
              "      <td>INSTANT</td>\n",
              "      <td>NaN</td>\n",
              "      <td>NaN</td>\n",
              "      <td>NaN</td>\n",
              "      <td>NaN</td>\n",
              "      <td>NaN</td>\n",
              "      <td>NaN</td>\n",
              "      <td>NaN</td>\n",
              "      <td>NaN</td>\n",
              "      <td>NaN</td>\n",
              "      <td>NaN</td>\n",
              "      <td>NaN</td>\n",
              "      <td>NaN</td>\n",
              "      <td>NaN</td>\n",
              "      <td>NaN</td>\n",
              "      <td>NaN</td>\n",
              "      <td>NaN</td>\n",
              "      <td>NaN</td>\n",
              "      <td>NaN</td>\n",
              "      <td>0,501,50</td>\n",
              "      <td>NaN</td>\n",
              "    </tr>\n",
              "    <tr>\n",
              "      <th>441</th>\n",
              "      <td>KAFEINSIZ(KOLA)</td>\n",
              "      <td>NaN</td>\n",
              "      <td>NaN</td>\n",
              "      <td>NaN</td>\n",
              "      <td>NaN</td>\n",
              "      <td>NaN</td>\n",
              "      <td>NaN</td>\n",
              "      <td>NaN</td>\n",
              "      <td>NaN</td>\n",
              "      <td>NaN</td>\n",
              "      <td>NaN</td>\n",
              "      <td>NaN</td>\n",
              "      <td>NaN</td>\n",
              "      <td>NaN</td>\n",
              "      <td>NaN</td>\n",
              "      <td>NaN</td>\n",
              "      <td>NaN</td>\n",
              "      <td>NaN</td>\n",
              "      <td>NaN</td>\n",
              "      <td>0.9</td>\n",
              "      <td>NaN</td>\n",
              "    </tr>\n",
              "    <tr>\n",
              "      <th>442</th>\n",
              "      <td>CAY(POSET)</td>\n",
              "      <td>NaN</td>\n",
              "      <td>NaN</td>\n",
              "      <td>NaN</td>\n",
              "      <td>NaN</td>\n",
              "      <td>NaN</td>\n",
              "      <td>NaN</td>\n",
              "      <td>NaN</td>\n",
              "      <td>NaN</td>\n",
              "      <td>NaN</td>\n",
              "      <td>NaN</td>\n",
              "      <td>NaN</td>\n",
              "      <td>NaN</td>\n",
              "      <td>NaN</td>\n",
              "      <td>NaN</td>\n",
              "      <td>NaN</td>\n",
              "      <td>NaN</td>\n",
              "      <td>NaN</td>\n",
              "      <td>NaN</td>\n",
              "      <td>0</td>\n",
              "      <td>NaN</td>\n",
              "    </tr>\n",
              "    <tr>\n",
              "      <th>443</th>\n",
              "      <td>CAY(POSET,5DK)</td>\n",
              "      <td>NaN</td>\n",
              "      <td>NaN</td>\n",
              "      <td>NaN</td>\n",
              "      <td>NaN</td>\n",
              "      <td>NaN</td>\n",
              "      <td>NaN</td>\n",
              "      <td>NaN</td>\n",
              "      <td>NaN</td>\n",
              "      <td>NaN</td>\n",
              "      <td>NaN</td>\n",
              "      <td>NaN</td>\n",
              "      <td>NaN</td>\n",
              "      <td>NaN</td>\n",
              "      <td>NaN</td>\n",
              "      <td>NaN</td>\n",
              "      <td>NaN</td>\n",
              "      <td>NaN</td>\n",
              "      <td>NaN</td>\n",
              "      <td>33</td>\n",
              "      <td>NaN</td>\n",
              "    </tr>\n",
              "    <tr>\n",
              "      <th>444</th>\n",
              "      <td>CAY(POSET,1DK)</td>\n",
              "      <td>NaN</td>\n",
              "      <td>NaN</td>\n",
              "      <td>NaN</td>\n",
              "      <td>NaN</td>\n",
              "      <td>NaN</td>\n",
              "      <td>NaN</td>\n",
              "      <td>NaN</td>\n",
              "      <td>NaN</td>\n",
              "      <td>NaN</td>\n",
              "      <td>NaN</td>\n",
              "      <td>NaN</td>\n",
              "      <td>NaN</td>\n",
              "      <td>NaN</td>\n",
              "      <td>NaN</td>\n",
              "      <td>NaN</td>\n",
              "      <td>NaN</td>\n",
              "      <td>NaN</td>\n",
              "      <td>NaN</td>\n",
              "      <td>20</td>\n",
              "      <td>NaN</td>\n",
              "    </tr>\n",
              "    <tr>\n",
              "      <th>445</th>\n",
              "      <td>CAY(DEMLENDIRILEN)</td>\n",
              "      <td>NaN</td>\n",
              "      <td>NaN</td>\n",
              "      <td>NaN</td>\n",
              "      <td>NaN</td>\n",
              "      <td>NaN</td>\n",
              "      <td>NaN</td>\n",
              "      <td>NaN</td>\n",
              "      <td>NaN</td>\n",
              "      <td>NaN</td>\n",
              "      <td>NaN</td>\n",
              "      <td>NaN</td>\n",
              "      <td>NaN</td>\n",
              "      <td>NaN</td>\n",
              "      <td>NaN</td>\n",
              "      <td>NaN</td>\n",
              "      <td>NaN</td>\n",
              "      <td>NaN</td>\n",
              "      <td>NaN</td>\n",
              "      <td>0</td>\n",
              "      <td>NaN</td>\n",
              "    </tr>\n",
              "    <tr>\n",
              "      <th>446</th>\n",
              "      <td>CAY(5DK DEMLENMIS)</td>\n",
              "      <td>NaN</td>\n",
              "      <td>NaN</td>\n",
              "      <td>NaN</td>\n",
              "      <td>NaN</td>\n",
              "      <td>NaN</td>\n",
              "      <td>NaN</td>\n",
              "      <td>NaN</td>\n",
              "      <td>NaN</td>\n",
              "      <td>NaN</td>\n",
              "      <td>NaN</td>\n",
              "      <td>NaN</td>\n",
              "      <td>NaN</td>\n",
              "      <td>NaN</td>\n",
              "      <td>NaN</td>\n",
              "      <td>NaN</td>\n",
              "      <td>NaN</td>\n",
              "      <td>NaN</td>\n",
              "      <td>NaN</td>\n",
              "      <td>29</td>\n",
              "      <td>NaN</td>\n",
              "    </tr>\n",
              "    <tr>\n",
              "      <th>447</th>\n",
              "      <td>KAKAOCIKOLATA</td>\n",
              "      <td>NaN</td>\n",
              "      <td>NaN</td>\n",
              "      <td>NaN</td>\n",
              "      <td>NaN</td>\n",
              "      <td>NaN</td>\n",
              "      <td>NaN</td>\n",
              "      <td>NaN</td>\n",
              "      <td>NaN</td>\n",
              "      <td>NaN</td>\n",
              "      <td>NaN</td>\n",
              "      <td>NaN</td>\n",
              "      <td>NaN</td>\n",
              "      <td>NaN</td>\n",
              "      <td>NaN</td>\n",
              "      <td>NaN</td>\n",
              "      <td>NaN</td>\n",
              "      <td>NaN</td>\n",
              "      <td>NaN</td>\n",
              "      <td>6</td>\n",
              "      <td>NaN</td>\n",
              "    </tr>\n",
              "  </tbody>\n",
              "</table>\n",
              "</div>"
            ],
            "text/plain": [
              "                   BESINLER  SU(g)  ...  KAFEIN(mg/100 mL)  KAYNAK NO.\n",
              "418       LIKORLER(AHUDUDU)    NaN  ...                  0         NaN\n",
              "419          LIKORLER(NANE)    NaN  ...                  0         NaN\n",
              "420      LIKORLER(PORTAKAL)    NaN  ...                  0         NaN\n",
              "421           LIKORLER(MUZ)    NaN  ...                  0         NaN\n",
              "422     ALKOLSUZ ICECEKLER:    NaN  ...                  0         NaN\n",
              "423           ADACAYI(KURU)    7.9  ...                  0         NaN\n",
              "424           ALKOLSUZ BIRA   89.5  ...                  0         NaN\n",
              "425                     CAY    3.8  ...                  0         NaN\n",
              "426                 IHLAMUR   91.0  ...                  0         NaN\n",
              "427         KAHVE(CEKIRDEK)    NaN  ...                  0         NaN\n",
              "428          KAHVE(INSTANT)    2.6  ...                  0         NaN\n",
              "429            KOLALI GAZOZ   90.0  ...                  0         NaN\n",
              "430              MADEN SUYU  100.0  ...                  0         NaN\n",
              "431   MEYVELI SODALI ICECEK   88.0  ...                  0         NaN\n",
              "432                COCACOLA    NaN  ...              17.97         NaN\n",
              "433               PEPSICOLA    NaN  ...              11.98         NaN\n",
              "434               DIET COLA    NaN  ...               9.17         NaN\n",
              "435                   KAHVE    NaN  ...                  0         NaN\n",
              "436           KOLA(INSTANT)    NaN  ...                 44         NaN\n",
              "437              PERCOLATED    NaN  ...                 74         NaN\n",
              "438            TURK KAHVESI    NaN  ...                  0         NaN\n",
              "439  KAHVE(KAFEINI ALINMIS)    NaN  ...                  0         NaN\n",
              "440                 INSTANT    NaN  ...           0,501,50         NaN\n",
              "441         KAFEINSIZ(KOLA)    NaN  ...                0.9         NaN\n",
              "442              CAY(POSET)    NaN  ...                  0         NaN\n",
              "443          CAY(POSET,5DK)    NaN  ...                 33         NaN\n",
              "444          CAY(POSET,1DK)    NaN  ...                 20         NaN\n",
              "445      CAY(DEMLENDIRILEN)    NaN  ...                  0         NaN\n",
              "446      CAY(5DK DEMLENMIS)    NaN  ...                 29         NaN\n",
              "447           KAKAOCIKOLATA    NaN  ...                  6         NaN\n",
              "\n",
              "[30 rows x 21 columns]"
            ]
          },
          "metadata": {
            "tags": []
          },
          "execution_count": 47
        }
      ]
    },
    {
      "cell_type": "code",
      "metadata": {
        "id": "YoHyhGLgMunZ",
        "colab": {
          "base_uri": "https://localhost:8080/",
          "height": 297
        },
        "outputId": "8f4d0b9a-2838-4d8a-cc40-8b280bc3fc74"
      },
      "source": [
        "data.describe() #kolonların istatiksel bilgileri"
      ],
      "execution_count": null,
      "outputs": [
        {
          "output_type": "execute_result",
          "data": {
            "text/html": [
              "<div>\n",
              "<style scoped>\n",
              "    .dataframe tbody tr th:only-of-type {\n",
              "        vertical-align: middle;\n",
              "    }\n",
              "\n",
              "    .dataframe tbody tr th {\n",
              "        vertical-align: top;\n",
              "    }\n",
              "\n",
              "    .dataframe thead th {\n",
              "        text-align: right;\n",
              "    }\n",
              "</style>\n",
              "<table border=\"1\" class=\"dataframe\">\n",
              "  <thead>\n",
              "    <tr style=\"text-align: right;\">\n",
              "      <th></th>\n",
              "      <th>SU(g)</th>\n",
              "      <th>ENERJI(g)</th>\n",
              "      <th>PROTEIN(g)</th>\n",
              "      <th>YAG(g)</th>\n",
              "      <th>KARBONHIDRAT(g)</th>\n",
              "      <th>POSA(g)</th>\n",
              "      <th>DEMIR(g)</th>\n",
              "      <th>FOSFOR(g)</th>\n",
              "      <th>VITAMIN C (mg)</th>\n",
              "      <th>ARTIK (%)</th>\n",
              "    </tr>\n",
              "  </thead>\n",
              "  <tbody>\n",
              "    <tr>\n",
              "      <th>count</th>\n",
              "      <td>348.000000</td>\n",
              "      <td>364.000000</td>\n",
              "      <td>354.000000</td>\n",
              "      <td>349.000000</td>\n",
              "      <td>351.000000</td>\n",
              "      <td>299.000000</td>\n",
              "      <td>312.000000</td>\n",
              "      <td>273.000000</td>\n",
              "      <td>232.000000</td>\n",
              "      <td>261.000000</td>\n",
              "    </tr>\n",
              "    <tr>\n",
              "      <th>mean</th>\n",
              "      <td>48.102011</td>\n",
              "      <td>257.260989</td>\n",
              "      <td>9.851695</td>\n",
              "      <td>14.391135</td>\n",
              "      <td>24.816527</td>\n",
              "      <td>1.492324</td>\n",
              "      <td>5.014144</td>\n",
              "      <td>208.139744</td>\n",
              "      <td>16.922466</td>\n",
              "      <td>10.678161</td>\n",
              "    </tr>\n",
              "    <tr>\n",
              "      <th>std</th>\n",
              "      <td>35.166719</td>\n",
              "      <td>211.703495</td>\n",
              "      <td>10.833343</td>\n",
              "      <td>24.521024</td>\n",
              "      <td>27.646130</td>\n",
              "      <td>3.330033</td>\n",
              "      <td>11.743068</td>\n",
              "      <td>284.085855</td>\n",
              "      <td>37.026386</td>\n",
              "      <td>16.038771</td>\n",
              "    </tr>\n",
              "    <tr>\n",
              "      <th>min</th>\n",
              "      <td>-7.600000</td>\n",
              "      <td>10.000000</td>\n",
              "      <td>0.000000</td>\n",
              "      <td>0.000000</td>\n",
              "      <td>0.000000</td>\n",
              "      <td>0.000000</td>\n",
              "      <td>0.000000</td>\n",
              "      <td>0.000000</td>\n",
              "      <td>0.000000</td>\n",
              "      <td>0.000000</td>\n",
              "    </tr>\n",
              "    <tr>\n",
              "      <th>25%</th>\n",
              "      <td>9.300000</td>\n",
              "      <td>74.500000</td>\n",
              "      <td>1.200000</td>\n",
              "      <td>0.400000</td>\n",
              "      <td>2.500000</td>\n",
              "      <td>0.000000</td>\n",
              "      <td>0.600000</td>\n",
              "      <td>40.000000</td>\n",
              "      <td>0.000000</td>\n",
              "      <td>0.000000</td>\n",
              "    </tr>\n",
              "    <tr>\n",
              "      <th>50%</th>\n",
              "      <td>56.850000</td>\n",
              "      <td>242.500000</td>\n",
              "      <td>6.500000</td>\n",
              "      <td>2.600000</td>\n",
              "      <td>10.600000</td>\n",
              "      <td>0.400000</td>\n",
              "      <td>1.500000</td>\n",
              "      <td>139.000000</td>\n",
              "      <td>2.000000</td>\n",
              "      <td>0.000000</td>\n",
              "    </tr>\n",
              "    <tr>\n",
              "      <th>75%</th>\n",
              "      <td>81.925000</td>\n",
              "      <td>356.000000</td>\n",
              "      <td>16.775000</td>\n",
              "      <td>15.800000</td>\n",
              "      <td>50.000000</td>\n",
              "      <td>1.500000</td>\n",
              "      <td>4.300000</td>\n",
              "      <td>274.000000</td>\n",
              "      <td>18.250000</td>\n",
              "      <td>19.000000</td>\n",
              "    </tr>\n",
              "    <tr>\n",
              "      <th>max</th>\n",
              "      <td>100.000000</td>\n",
              "      <td>902.000000</td>\n",
              "      <td>86.000000</td>\n",
              "      <td>100.000000</td>\n",
              "      <td>99.500000</td>\n",
              "      <td>26.300000</td>\n",
              "      <td>124.000000</td>\n",
              "      <td>3100.000000</td>\n",
              "      <td>369.000000</td>\n",
              "      <td>74.000000</td>\n",
              "    </tr>\n",
              "  </tbody>\n",
              "</table>\n",
              "</div>"
            ],
            "text/plain": [
              "            SU(g)   ENERJI(g)  ...  VITAMIN C (mg)   ARTIK (%)\n",
              "count  348.000000  364.000000  ...      232.000000  261.000000\n",
              "mean    48.102011  257.260989  ...       16.922466   10.678161\n",
              "std     35.166719  211.703495  ...       37.026386   16.038771\n",
              "min     -7.600000   10.000000  ...        0.000000    0.000000\n",
              "25%      9.300000   74.500000  ...        0.000000    0.000000\n",
              "50%     56.850000  242.500000  ...        2.000000    0.000000\n",
              "75%     81.925000  356.000000  ...       18.250000   19.000000\n",
              "max    100.000000  902.000000  ...      369.000000   74.000000\n",
              "\n",
              "[8 rows x 10 columns]"
            ]
          },
          "metadata": {
            "tags": []
          },
          "execution_count": 106
        }
      ]
    },
    {
      "cell_type": "code",
      "metadata": {
        "id": "FEnR4oV_WO_x",
        "colab": {
          "base_uri": "https://localhost:8080/",
          "height": 124
        },
        "outputId": "5bf10d7d-1f99-45f5-919e-63dfbdb23f34"
      },
      "source": [
        "data.columns #kolonların adlarını verir"
      ],
      "execution_count": null,
      "outputs": [
        {
          "output_type": "execute_result",
          "data": {
            "text/plain": [
              "Index(['      BESİNLER', 'SU(g)', 'ENERJİ(g)', 'PROTEİN(g)', 'YAĞ(g)',\n",
              "       'KARBONHİDRAT(g)', 'POSA(g)', 'KÜL(g)', 'KALSİYUM(g)', 'DEMİR(g)',\n",
              "       'FOSFOR(g)', 'POTASYUM(g)', 'SODYUM(g)', 'VİTAMİN A ve KAROTEİN IU',\n",
              "       'TİAMİN (mg)', 'RİBOFLAVİN (mg)', 'NİLASİN(mg)', 'VİTAMİN C (mg)',\n",
              "       'ARTIK (%)', 'KAYNAK NO.', 'Kafein(mg/100 mL)'],\n",
              "      dtype='object')"
            ]
          },
          "metadata": {
            "tags": []
          },
          "execution_count": 31
        }
      ]
    },
    {
      "cell_type": "code",
      "metadata": {
        "id": "-29EVVmSX-_A",
        "colab": {
          "base_uri": "https://localhost:8080/",
          "height": 34
        },
        "outputId": "ebbc8144-1f9b-4f1c-ba22-af60aba2eaa4"
      },
      "source": [
        "# veri dosyasının boyutunu inceleyelim #\n",
        "\n",
        "data.ndim  "
      ],
      "execution_count": null,
      "outputs": [
        {
          "output_type": "execute_result",
          "data": {
            "text/plain": [
              "2"
            ]
          },
          "metadata": {
            "tags": []
          },
          "execution_count": 27
        }
      ]
    },
    {
      "cell_type": "code",
      "metadata": {
        "id": "_t8ph3GlYJip",
        "colab": {
          "base_uri": "https://localhost:8080/",
          "height": 34
        },
        "outputId": "9862533d-b6eb-4bdd-9dea-22125b5dbff8"
      },
      "source": [
        "#veri boyutu\n",
        "data.shape"
      ],
      "execution_count": null,
      "outputs": [
        {
          "output_type": "execute_result",
          "data": {
            "text/plain": [
              "(448, 20)"
            ]
          },
          "metadata": {
            "tags": []
          },
          "execution_count": 232
        }
      ]
    },
    {
      "cell_type": "code",
      "metadata": {
        "id": "5U0GfTWccOfj",
        "colab": {
          "base_uri": "https://localhost:8080/",
          "height": 374
        },
        "outputId": "7ed6823b-e046-419a-801e-2e2e68c0a09f"
      },
      "source": [
        "#Kullanıcı tarafından girilen bir besinin besin değerlerine erişme \n",
        "copy_data = data.set_index('BESINLER') #data'nın içeriğini \"BESINLER\" sütununu index olacak şekilde copy_data'ya kopyalıyoruz\n",
        "besin = input(\"Besin degerlerini merak ettiğiniz yiyecek/icecek : \") #besin değerleri merak edilen besini girdi olarak kullanıcıdan alma\n",
        "new_data = copy_data.loc[besin] #\"BESINLER\" sütununu indeks olarak belirlediğimiz copy_data verisinden kullanıcı tarafından girilen besinin satırına erişme\n",
        "new_data"
      ],
      "execution_count": null,
      "outputs": [
        {
          "output_type": "stream",
          "text": [
            "Besin degerlerini merak ettiğiniz yiyecek/icecek : SUCUK\n"
          ],
          "name": "stdout"
        },
        {
          "output_type": "execute_result",
          "data": {
            "text/plain": [
              "SU(g)                       31.9\n",
              "ENERJI(g)                    452\n",
              "PROTEIN(g)                  21.4\n",
              "YAG(g)                      40.8\n",
              "KARBONHIDRAT(g)              NaN\n",
              "POSA(g)                        0\n",
              "KUL(g)                       NaN\n",
              "KALSIYUM(g)                   45\n",
              "DEMIR(g)                    12.9\n",
              "FOSFOR(g)                    NaN\n",
              "POTASYUM(g)                  NaN\n",
              "SODYUM(g)                    NaN\n",
              "VITAMİN A ve KAROTEIN IU       0\n",
              "TIAMIN (mg)                  NaN\n",
              "RIBOFLAVIN (mg)              NaN\n",
              "NILASIN(mg)                  NaN\n",
              "VITAMIN C (mg)               NaN\n",
              "ARTIK (%)                      0\n",
              "KAFEIN(mg/100 mL)              0\n",
              "Name: SUCUK, dtype: object"
            ]
          },
          "metadata": {
            "tags": []
          },
          "execution_count": 7
        }
      ]
    },
    {
      "cell_type": "markdown",
      "metadata": {
        "id": "KbRQpWIr4Gqx"
      },
      "source": [
        "# **5.GRAFİK OLUŞTURMA AŞAMASI**"
      ]
    },
    {
      "cell_type": "code",
      "metadata": {
        "id": "k7mnj97bcojO",
        "colab": {
          "base_uri": "https://localhost:8080/",
          "height": 863
        },
        "outputId": "4c9ed1af-8726-427d-df67-4a95b51bfb0f"
      },
      "source": [
        "#Kullanıcı tarafından girilen besinin dairesel grafiği\n",
        "new_data.plot.pie(subplots = True ,figsize = (20,15),autopct = '%1.2f%%' , textprops={'fontsize': 10})"
      ],
      "execution_count": null,
      "outputs": [
        {
          "output_type": "execute_result",
          "data": {
            "text/plain": [
              "<matplotlib.axes._subplots.AxesSubplot at 0x7f92575af6a0>"
            ]
          },
          "metadata": {
            "tags": []
          },
          "execution_count": 19
        },
        {
          "output_type": "display_data",
          "data": {
            "image/png": "[encoded data removed]",
            "text/plain": [
              "<Figure size 1440x1080 with 1 Axes>"
            ]
          },
          "metadata": {
            "tags": []
          }
        }
      ]
    },
    {
      "cell_type": "markdown",
      "metadata": {
        "id": "iC2YGpXQSSgC"
      },
      "source": [
        "# **VERİLER İÇERİSİNDEKİ YAĞ KOLONUNUN SAYI DEĞERLERİNE GÖRE DAĞILIMININ GÖRSELLEŞTİRİLMESİ**"
      ]
    },
    {
      "cell_type": "code",
      "metadata": {
        "id": "POPCQdqSyfqg",
        "colab": {
          "base_uri": "https://localhost:8080/",
          "height": 170
        },
        "outputId": "50e05662-120a-4764-981b-88dffd3059b7"
      },
      "source": [
        "data['YAG(g)'].describe() #\"YAG(g)\" kolonunun istatistikleri"
      ],
      "execution_count": null,
      "outputs": [
        {
          "output_type": "execute_result",
          "data": {
            "text/plain": [
              "count    349.000000\n",
              "mean      14.391135\n",
              "std       24.521024\n",
              "min        0.000000\n",
              "25%        0.400000\n",
              "50%        2.600000\n",
              "75%       15.800000\n",
              "max      100.000000\n",
              "Name: YAG(g), dtype: float64"
            ]
          },
          "metadata": {
            "tags": []
          },
          "execution_count": 211
        }
      ]
    },
    {
      "cell_type": "code",
      "metadata": {
        "id": "XzGTFb0T4I1B",
        "colab": {
          "base_uri": "https://localhost:8080/",
          "height": 221
        },
        "outputId": "615e78c4-4bd8-4a3b-cef6-9d8cd94ee555"
      },
      "source": [
        "data['YAG(g)'].value_counts() #Bu satır verinin NaN dışındaki değerleri sayısal olarak ne kadar içerdiğini verir"
      ],
      "execution_count": null,
      "outputs": [
        {
          "output_type": "execute_result",
          "data": {
            "text/plain": [
              "0.2      30\n",
              "0.1      20\n",
              "0.3      20\n",
              "100.0    14\n",
              "0.4      14\n",
              "         ..\n",
              "19.4      1\n",
              "20.4      1\n",
              "29.4      1\n",
              "40.8      1\n",
              "14.9      1\n",
              "Name: YAG(g), Length: 156, dtype: int64"
            ]
          },
          "metadata": {
            "tags": []
          },
          "execution_count": 205
        }
      ]
    },
    {
      "cell_type": "code",
      "metadata": {
        "id": "iKUDWRrQiwTj",
        "colab": {
          "base_uri": "https://localhost:8080/",
          "height": 646
        },
        "outputId": "da3b45e2-3d63-4e1c-a931-e93c7089e9e1"
      },
      "source": [
        "#en yüksek yağ değerine sahip 18 besin\n",
        "data['YAG(g)']=data['YAG(g)'].astype('category')\n",
        "yag = data.sort_values(by=['YAG(g)'],ascending=False, na_position='last').head(18)\n",
        "\n",
        "x_yag = yag.iloc[:,0:1]\n",
        "x_yag = x_yag.astype(np.str)\n",
        "\n",
        "y_yag = yag.iloc[:,4:5]\n",
        "y_yag = y_yag.astype(np.float)\n",
        "\n",
        "stack_yagmax = pd.concat([x_yag,y_yag],axis=0)\n",
        "\n",
        "print(stack_yagmax)"
      ],
      "execution_count": null,
      "outputs": [
        {
          "output_type": "stream",
          "text": [
            "              BESINLER  YAG(g)\n",
            "343         BALIK YAGI     NaN\n",
            "329        HASHAS YAGI     NaN\n",
            "345        KUYRUK YAGI     NaN\n",
            "340         ZEYTINYAGI     NaN\n",
            "339    YERFISTIGI YAGI     NaN\n",
            "338         SUSAM YAGI     NaN\n",
            "327      AYCICEGI YAGI     NaN\n",
            "328        FINDIK YAGI     NaN\n",
            "337          SOYA YAGI     NaN\n",
            "336         PAMUK YAGI     NaN\n",
            "335       PALMIYE YAGI     NaN\n",
            "334        NEBATI YAGI     NaN\n",
            "333      MISIROZU YAGI     NaN\n",
            "330  KETEN TOHUMU YAGI     NaN\n",
            "346    SADEYAG(ERIMIS)     NaN\n",
            "331   MARGARIN(MUTFAK)     NaN\n",
            "344             ICYAGI     NaN\n",
            "347            TEREYAG     NaN\n",
            "343                NaN   100.0\n",
            "329                NaN   100.0\n",
            "345                NaN   100.0\n",
            "340                NaN   100.0\n",
            "339                NaN   100.0\n",
            "338                NaN   100.0\n",
            "327                NaN   100.0\n",
            "328                NaN   100.0\n",
            "337                NaN   100.0\n",
            "336                NaN   100.0\n",
            "335                NaN   100.0\n",
            "334                NaN   100.0\n",
            "333                NaN   100.0\n",
            "330                NaN   100.0\n",
            "346                NaN    98.7\n",
            "331                NaN    82.0\n",
            "344                NaN    81.8\n",
            "347                NaN    81.1\n"
          ],
          "name": "stdout"
        }
      ]
    },
    {
      "cell_type": "code",
      "metadata": {
        "id": "0Sw1JIDHrMqC",
        "colab": {
          "base_uri": "https://localhost:8080/",
          "height": 258
        },
        "outputId": "9a92c2d0-988f-4aff-ef95-69001576d492"
      },
      "source": [
        "#en yüksek yağ değerine sahip 18 besinin sütun grafiği\n",
        "plt.figure(figsize=(32,5),facecolor='white')\n",
        "sns.barplot(x= \"BESINLER\", y=\"YAG(g)\", data=stack_yagmax )\n",
        "plt.title(\"BESINLER ICERISINDEKI YAG MIKTARI\")"
      ],
      "execution_count": null,
      "outputs": [
        {
          "output_type": "execute_result",
          "data": {
            "text/plain": [
              "Text(0.5, 1.0, 'BESINLER ICERISINDEKI YAG MIKTARI')"
            ]
          },
          "metadata": {
            "tags": []
          },
          "execution_count": 102
        },
        {
          "output_type": "display_data",
          "data": {
            "image/png": "[encoded data removed]",
            "text/plain": [
              "<Figure size 2304x360 with 1 Axes>"
            ]
          },
          "metadata": {
            "tags": []
          }
        }
      ]
    },
    {
      "cell_type": "code",
      "metadata": {
        "id": "Z2qHMbyeT6xj",
        "colab": {
          "base_uri": "https://localhost:8080/",
          "height": 374
        },
        "outputId": "a885e828-978d-418c-e811-3ffd7cd3da63"
      },
      "source": [
        "#en düşük yağ değerine sahip 20 besin\n",
        "data['YAG(g)']=data['YAG(g)'].astype('category')\n",
        "yag = data.sort_values(by=['YAG(g)'],ascending=True).head(20)\n",
        "\n",
        "x_yag = yag.iloc[:,0:1]\n",
        "x_yag = x_yag.astype(np.str)\n",
        "\n",
        "y_yag = yag.iloc[:,4:5]\n",
        "y_yag = y_yag.astype(np.float)\n",
        "\n",
        "stack_yagmin = pd.concat([x_yag,y_yag],axis=1)\n",
        "\n",
        "print(stack_yagmin)"
      ],
      "execution_count": null,
      "outputs": [
        {
          "output_type": "stream",
          "text": [
            "                  BESINLER  YAG(g)\n",
            "431  MEYVELI SODALI ICECEK   0.000\n",
            "209                  SEKER   0.000\n",
            "408                NESKAFE   0.000\n",
            "430             MADEN SUYU   0.000\n",
            "285                    BAL   0.000\n",
            "429           KOLALI GAZOZ   0.000\n",
            "284           AKIDE SEKERI   0.000\n",
            "280           TAVUK(BEYAZ)   0.001\n",
            "360          BAKING POWDER   0.001\n",
            "104              ELMA SUYU   0.001\n",
            "135            UZUM (SUYU)   0.001\n",
            "314         MISIR(NISASTA)   0.001\n",
            "106           KIRMIZI ERIK   0.001\n",
            "230            SOGAN(KURU)   0.100\n",
            "378              KUS UZUMU   0.100\n",
            "99                    AYVA   0.100\n",
            "375                JELATIN   0.100\n",
            "165        HIYAR(SOYULMUS)   0.100\n",
            "207           PEKMEZ(UZUM)   0.100\n",
            "164      HIYAR(SOYULMAMIS)   0.100\n"
          ],
          "name": "stdout"
        }
      ]
    },
    {
      "cell_type": "code",
      "metadata": {
        "id": "KkBloPH_VS8b",
        "colab": {
          "base_uri": "https://localhost:8080/",
          "height": 239
        },
        "outputId": "b16a5d6c-94fb-4d39-97d5-a8a53bc14efa"
      },
      "source": [
        "#en düşük yağ değerine sahip 20 besinin sütun grafiği\n",
        "plt.figure(figsize=(35,5),facecolor='white')\n",
        "sns.barplot(x= \"BESINLER\", y=\"YAG(g)\", data=stack_yagmin )\n",
        "plt.title(\"BESINLER ICERISINDEKI YAG MIKTARI\")"
      ],
      "execution_count": null,
      "outputs": [
        {
          "output_type": "execute_result",
          "data": {
            "text/plain": [
              "Text(0.5, 1.0, 'BESINLER ICERISINDEKI YAG MIKTARI')"
            ]
          },
          "metadata": {
            "tags": []
          },
          "execution_count": 119
        },
        {
          "output_type": "display_data",
          "data": {
            "image/png": "[encoded data removed]",
            "text/plain": [
              "<Figure size 2520x360 with 1 Axes>"
            ]
          },
          "metadata": {
            "tags": []
          }
        }
      ]
    },
    {
      "cell_type": "code",
      "metadata": {
        "id": "_emd92EKA8Bt",
        "colab": {
          "base_uri": "https://localhost:8080/",
          "height": 880
        },
        "outputId": "669f64e0-0b25-46f9-f00e-dfc18313fe44"
      },
      "source": [
        "stack_yag['YAG(g)'].plot.pie(subplots = True, labels= stack_yag['BESINLER'] ,figsize = (15,15),autopct = '%1.2f%%' , textprops={'fontsize': 10})"
      ],
      "execution_count": null,
      "outputs": [
        {
          "output_type": "execute_result",
          "data": {
            "text/plain": [
              "array([<matplotlib.axes._subplots.AxesSubplot object at 0x7f6087355dd8>],\n",
              "      dtype=object)"
            ]
          },
          "metadata": {
            "tags": []
          },
          "execution_count": 5
        },
        {
          "output_type": "display_data",
          "data": {
            "image/png": "[encoded data removed]",
            "text/plain": [
              "<Figure size 1080x1080 with 1 Axes>"
            ]
          },
          "metadata": {
            "tags": []
          }
        }
      ]
    },
    {
      "cell_type": "markdown",
      "metadata": {
        "id": "Z2z0nK5oSffo"
      },
      "source": [
        "# **VERİLER İÇERİSİNDEKİ PROTEİN KOLONUNUN SAYI DEĞERLERİNE GÖRE DAĞILIMININ GÖRSELLEŞTİRİLMESİ**"
      ]
    },
    {
      "cell_type": "code",
      "metadata": {
        "id": "2Wly6BlL79OI",
        "colab": {
          "base_uri": "https://localhost:8080/",
          "height": 101
        },
        "outputId": "8537d0db-e850-46bf-c3bc-93b24a15b367"
      },
      "source": [
        "data['PROTEIN(g)'].describe() #\"PROTEIN(g)\" kolonunun istatistikleri"
      ],
      "execution_count": null,
      "outputs": [
        {
          "output_type": "execute_result",
          "data": {
            "text/plain": [
              "count     381\n",
              "unique    185\n",
              "top         -\n",
              "freq       27\n",
              "Name: PROTEIN(g), dtype: object"
            ]
          },
          "metadata": {
            "tags": []
          },
          "execution_count": 27
        }
      ]
    },
    {
      "cell_type": "code",
      "metadata": {
        "id": "vQBDxwLh8BDn",
        "colab": {
          "base_uri": "https://localhost:8080/",
          "height": 218
        },
        "outputId": "e2a0d598-0e4c-4f90-b3c7-3c23fb3f2a0a"
      },
      "source": [
        "data['PROTEIN(g)'].value_counts() #Bu satır verinin NaN dışındaki değerleri sayısal olarak ne kadar içerdiğini verir"
      ],
      "execution_count": null,
      "outputs": [
        {
          "output_type": "execute_result",
          "data": {
            "text/plain": [
              "-       27\n",
              "0       25\n",
              "1.2      8\n",
              "0.5      8\n",
              "0.6      7\n",
              "        ..\n",
              "5.1      1\n",
              "5.2      1\n",
              "26.9     1\n",
              "22.4     1\n",
              "10.3     1\n",
              "Name: PROTEIN(g), Length: 185, dtype: int64"
            ]
          },
          "metadata": {
            "tags": []
          },
          "execution_count": 28
        }
      ]
    },
    {
      "cell_type": "code",
      "metadata": {
        "id": "A2QumA9tAKuK",
        "colab": {
          "base_uri": "https://localhost:8080/",
          "height": 374
        },
        "outputId": "176b634c-6d38-4e6b-a165-1dccd39ab771"
      },
      "source": [
        "#en yüksek protein değerine sahip 20 besin\n",
        "data['PROTEIN(g)']=data['PROTEIN(g)'].astype('category')\n",
        "protein = data.sort_values(by=['PROTEIN(g)'], ascending=False, na_position='last').head(20)  \n",
        "\n",
        "x_protein = protein.iloc[:,0:1]\n",
        "\n",
        "\n",
        "y_protein = protein.iloc[:,3:4]\n",
        "y_protein = y_protein.astype(np.float)\n",
        "\n",
        "stack_protein = pd.concat([x_protein,y_protein],axis=1)\n",
        "\n",
        "print(stack_protein)"
      ],
      "execution_count": null,
      "outputs": [
        {
          "output_type": "stream",
          "text": [
            "                      BESINLER  PROTEIN(g)\n",
            "375                    JELATIN        86.0\n",
            "6                    BALIK UNU        78.0\n",
            "249              COKELEK(KURU)        54.9\n",
            "88            SOYA UNU(YAGSIZ)        47.0\n",
            "87          SOYA UNU(AZ YAGLI)        43.4\n",
            "379                 MAYA(KURU)        36.9\n",
            "271            SUTTOZU(YAGSIZ)        36.2\n",
            "248              COKELEK(TAZE)        35.0\n",
            "86              SOYA FASULYESI        34.1\n",
            "40         PASTIRMA (CEMENSIZ)        32.7\n",
            "77             KABAK CEKIRDEGI        30.0\n",
            "250                    GRAVYER        29.8\n",
            "39          PASTIRMA (CEMENLI)        29.5\n",
            "252              KASAR PEYNIRI        27.0\n",
            "16                      HAVYAR        26.9\n",
            "270             SUTTOZU(YAGLI)        26.3\n",
            "8                        KILIC        26.3\n",
            "91   YER FISTIGI(IC KAVRULMUS)        26.2\n",
            "70                   BAKLA(IC)        25.1\n",
            "251        COKELEK (KARS TIPI)        25.0\n"
          ],
          "name": "stdout"
        }
      ]
    },
    {
      "cell_type": "code",
      "metadata": {
        "id": "9CDkn7phDiIQ",
        "colab": {
          "base_uri": "https://localhost:8080/",
          "height": 306
        },
        "outputId": "171f0518-ae0c-43bc-d400-d5c91052b53a"
      },
      "source": [
        "#en yüksek protein değerine sahip 20 besinin sütun grafiği\n",
        "plt.figure(figsize=(35,7),facecolor='white')\n",
        "sns.barplot(x= \"BESINLER\", y=\"PROTEIN(g)\", data=stack_protein  )\n",
        "plt.title(\"BESINLER ICERISINDEKI PROTEIN MIKTARI\")"
      ],
      "execution_count": null,
      "outputs": [
        {
          "output_type": "execute_result",
          "data": {
            "text/plain": [
              "Text(0.5, 1.0, 'BESINLER ICERISINDEKI PROTEIN MIKTARI')"
            ]
          },
          "metadata": {
            "tags": []
          },
          "execution_count": 242
        },
        {
          "output_type": "display_data",
          "data": {
            "image/png": "[encoded data removed]",
            "text/plain": [
              "<Figure size 2520x504 with 1 Axes>"
            ]
          },
          "metadata": {
            "tags": []
          }
        }
      ]
    },
    {
      "cell_type": "code",
      "metadata": {
        "id": "4IYATYufwViN",
        "colab": {
          "base_uri": "https://localhost:8080/",
          "height": 880
        },
        "outputId": "124eb76b-f23a-42b8-8cdb-37db534f693b"
      },
      "source": [
        "stack_protein['PROTEIN(g)'].plot.pie(subplots = True ,labels = stack_protein['      BESINLER'] ,figsize = (15,15) , autopct = '%1.2f%%' )"
      ],
      "execution_count": null,
      "outputs": [
        {
          "output_type": "execute_result",
          "data": {
            "text/plain": [
              "array([<matplotlib.axes._subplots.AxesSubplot object at 0x7f9695065518>],\n",
              "      dtype=object)"
            ]
          },
          "metadata": {
            "tags": []
          },
          "execution_count": 111
        },
        {
          "output_type": "display_data",
          "data": {
            "image/png": "[encoded data removed]",
            "text/plain": [
              "<Figure size 1080x1080 with 1 Axes>"
            ]
          },
          "metadata": {
            "tags": []
          }
        }
      ]
    },
    {
      "cell_type": "markdown",
      "metadata": {
        "id": "61dyh0-YSlYV"
      },
      "source": [
        "# **VERİLER İÇERİSİNDEKİ KARBONHİDRAT KOLONUNUN SAYI DEĞERLERİNE GÖRE DAĞILIMININ GÖRSELLEŞTİRİLMESİ**"
      ]
    },
    {
      "cell_type": "code",
      "metadata": {
        "id": "a-xI8N6Y_Zxx",
        "colab": {
          "base_uri": "https://localhost:8080/",
          "height": 170
        },
        "outputId": "5aa1d466-a01d-4d79-a1c5-ea667b8f4bec"
      },
      "source": [
        "data['KARBONHIDRAT(g)'].describe() #\"KARBONHIDRAT(g)\" kolonunun istatistikleri"
      ],
      "execution_count": null,
      "outputs": [
        {
          "output_type": "execute_result",
          "data": {
            "text/plain": [
              "count    351.000000\n",
              "mean      24.816527\n",
              "std       27.646130\n",
              "min        0.000000\n",
              "25%        2.500000\n",
              "50%       10.600000\n",
              "75%       50.000000\n",
              "max       99.500000\n",
              "Name: KARBONHIDRAT(g), dtype: float64"
            ]
          },
          "metadata": {
            "tags": []
          },
          "execution_count": 246
        }
      ]
    },
    {
      "cell_type": "code",
      "metadata": {
        "id": "IGhfC2mA_jvf",
        "colab": {
          "base_uri": "https://localhost:8080/",
          "height": 221
        },
        "outputId": "ad4ae031-17b7-442b-a7f5-6722637b1a6f"
      },
      "source": [
        "data['KARBONHIDRAT(g)'].value_counts() #Bu satır verinin NaN dışındaki değerleri sayısal olarak ne kadar içerdiğini verir"
      ],
      "execution_count": null,
      "outputs": [
        {
          "output_type": "execute_result",
          "data": {
            "text/plain": [
              "0.0     56\n",
              "52.0     4\n",
              "1.2      4\n",
              "5.2      4\n",
              "3.8      4\n",
              "        ..\n",
              "9.8      1\n",
              "29.8     1\n",
              "8.4      1\n",
              "74.8     1\n",
              "75.2     1\n",
              "Name: KARBONHIDRAT(g), Length: 222, dtype: int64"
            ]
          },
          "metadata": {
            "tags": []
          },
          "execution_count": 247
        }
      ]
    },
    {
      "cell_type": "code",
      "metadata": {
        "id": "dZleeOQXEN3s",
        "colab": {
          "base_uri": "https://localhost:8080/",
          "height": 374
        },
        "outputId": "30ccdfd2-20e9-4d19-d8ca-65bf5537d511"
      },
      "source": [
        "#en yüksek karbonhidrat değerine sahip 20 besin\n",
        "data['KARBONHIDRAT(g)']=data['KARBONHIDRAT(g)'].astype('category')\n",
        "karbonhidrat = data.sort_values(by=['KARBONHIDRAT(g)'],na_position='last',ascending=False).head(20)\n",
        "\n",
        "x_karbonhidrat = karbonhidrat.iloc[:,0:1]\n",
        "x_karbonhidrat = x_karbonhidrat.astype(np.str)\n",
        "\n",
        "y_karbonhidrat = karbonhidrat.iloc[:,5:6]\n",
        "y_karbonhidrat = y_karbonhidrat.astype(np.float)\n",
        "\n",
        "stack_karbonhidrat = pd.concat([x_karbonhidrat,y_karbonhidrat],axis=1)\n",
        "\n",
        "print(stack_karbonhidrat)"
      ],
      "execution_count": null,
      "outputs": [
        {
          "output_type": "stream",
          "text": [
            "                   BESINLER  KARBONHIDRAT(g)\n",
            "209                   SEKER             99.5\n",
            "109             ERIK PESTIL             91.3\n",
            "314          MISIR(NISASTA)             87.6\n",
            "284            AKIDE SEKERI             86.9\n",
            "222                   MARIE             85.4\n",
            "312      MISIR(CORN FLAKES)             85.3\n",
            "121           KAYISI PESTIL             84.6\n",
            "231              SOGAN(TOZ)             80.7\n",
            "206        MEYVE(SEKERLEME)             80.6\n",
            "425                     CAY             80.5\n",
            "319                  PIRINC             80.4\n",
            "403             TARCIN(TOZ)             80.0\n",
            "192             PATATES UNU             80.0\n",
            "289  BUĞDAY UNU (KEK,PASTA)             79.4\n",
            "220                    ARPA             78.8\n",
            "285                     BAL             78.4\n",
            "292                  BULGUR             78.1\n",
            "134             UZUM (KURU)             77.4\n",
            "303                   IRMIK             77.0\n",
            "318               MISIR(UN)             76.9\n"
          ],
          "name": "stdout"
        }
      ]
    },
    {
      "cell_type": "code",
      "metadata": {
        "id": "iaxyrkd8GXxY",
        "colab": {
          "base_uri": "https://localhost:8080/",
          "height": 274
        },
        "outputId": "0e536978-ff28-48a8-915b-2bacedcbd457"
      },
      "source": [
        "#en yüksek karbonhidrat değerine sahip 20 besinin sütun grafiği\n",
        "plt.figure(figsize=(40,7),facecolor='white')\n",
        "\n",
        "sns.barplot(x=\"BESINLER\", y=\"KARBONHIDRAT(g)\", data=stack_karbonhidrat  )\n",
        "plt.title(\"BESINLER ICERISINDEKI KARBONHIDRAT MIKTARI\")"
      ],
      "execution_count": null,
      "outputs": [
        {
          "output_type": "execute_result",
          "data": {
            "text/plain": [
              "Text(0.5, 1.0, 'BESINLER ICERISINDEKI KARBONHIDRAT MIKTARI')"
            ]
          },
          "metadata": {
            "tags": []
          },
          "execution_count": 258
        },
        {
          "output_type": "display_data",
          "data": {
            "image/png": "[encoded data removed]",
            "text/plain": [
              "<Figure size 2880x504 with 1 Axes>"
            ]
          },
          "metadata": {
            "tags": []
          }
        }
      ]
    },
    {
      "cell_type": "code",
      "metadata": {
        "id": "BblUcqm2_qhV",
        "colab": {
          "base_uri": "https://localhost:8080/",
          "height": 902
        },
        "outputId": "ece61588-87af-42fa-c195-3d2cbca5dcf0"
      },
      "source": [
        "stack_karbonhidrat['KARBONHIDRAT(g)'].plot.pie(subplots = True ,labels = stack_karbonhidrat['BESINLER'] ,figsize = (15,30),autopct = '%1.2f%%' )"
      ],
      "execution_count": null,
      "outputs": [
        {
          "output_type": "execute_result",
          "data": {
            "text/plain": [
              "array([<matplotlib.axes._subplots.AxesSubplot object at 0x7f9690f90a20>],\n",
              "      dtype=object)"
            ]
          },
          "metadata": {
            "tags": []
          },
          "execution_count": 139
        },
        {
          "output_type": "display_data",
          "data": {
            "image/png": "[encoded data removed]",
            "text/plain": [
              "<Figure size 1080x2160 with 1 Axes>"
            ]
          },
          "metadata": {
            "tags": []
          }
        }
      ]
    },
    {
      "cell_type": "markdown",
      "metadata": {
        "id": "cZ2jlHmYOz03"
      },
      "source": [
        "# 6.DİYET PROGRAMI HAZIRLANIŞI\n",
        " Her yaş grubunun alması gereken günlük enerji (kkal bakımından) belirlidir. Öncelik bunların belirlenmesi ardından da karbonhidrat , protein ve yağ bakımından yemek listesi hazırlanır.\n"
      ]
    },
    {
      "cell_type": "markdown",
      "metadata": {
        "id": "rSnv1CPMYFPk"
      },
      "source": [
        "# ÖNCELİKLE YAŞ - ENERJİ TABLOMUZU İNCELEYELİM "
      ]
    },
    {
      "cell_type": "code",
      "metadata": {
        "id": "ASUZ-RC5dQGs",
        "colab": {
          "base_uri": "https://localhost:8080/",
          "height": 576
        },
        "outputId": "e02e42ca-9379-4f08-da64-421441c89d3b"
      },
      "source": [
        "yas_enerji"
      ],
      "execution_count": null,
      "outputs": [
        {
          "output_type": "execute_result",
          "data": {
            "text/html": [
              "<div>\n",
              "<style scoped>\n",
              "    .dataframe tbody tr th:only-of-type {\n",
              "        vertical-align: middle;\n",
              "    }\n",
              "\n",
              "    .dataframe tbody tr th {\n",
              "        vertical-align: top;\n",
              "    }\n",
              "\n",
              "    .dataframe thead th {\n",
              "        text-align: right;\n",
              "    }\n",
              "</style>\n",
              "<table border=\"1\" class=\"dataframe\">\n",
              "  <thead>\n",
              "    <tr style=\"text-align: right;\">\n",
              "      <th></th>\n",
              "      <th>YAS</th>\n",
              "      <th>G.ENERJI(kkal)</th>\n",
              "    </tr>\n",
              "  </thead>\n",
              "  <tbody>\n",
              "    <tr>\n",
              "      <th>0</th>\n",
              "      <td>0-6 AY</td>\n",
              "      <td>545</td>\n",
              "    </tr>\n",
              "    <tr>\n",
              "      <th>1</th>\n",
              "      <td>7-12 AY</td>\n",
              "      <td>710</td>\n",
              "    </tr>\n",
              "    <tr>\n",
              "      <th>2</th>\n",
              "      <td>1-3</td>\n",
              "      <td>1250</td>\n",
              "    </tr>\n",
              "    <tr>\n",
              "      <th>3</th>\n",
              "      <td>4-6</td>\n",
              "      <td>1650</td>\n",
              "    </tr>\n",
              "    <tr>\n",
              "      <th>4</th>\n",
              "      <td>7-9</td>\n",
              "      <td>1870</td>\n",
              "    </tr>\n",
              "    <tr>\n",
              "      <th>5</th>\n",
              "      <td>ERKEK(10-13)</td>\n",
              "      <td>2445</td>\n",
              "    </tr>\n",
              "    <tr>\n",
              "      <th>6</th>\n",
              "      <td>ERKEK(14-18)</td>\n",
              "      <td>2860</td>\n",
              "    </tr>\n",
              "    <tr>\n",
              "      <th>7</th>\n",
              "      <td>ERKEK(19-30)</td>\n",
              "      <td>2850</td>\n",
              "    </tr>\n",
              "    <tr>\n",
              "      <th>8</th>\n",
              "      <td>ERKEK(31-50)</td>\n",
              "      <td>2623</td>\n",
              "    </tr>\n",
              "    <tr>\n",
              "      <th>9</th>\n",
              "      <td>ERKEK(51-65)</td>\n",
              "      <td>2250</td>\n",
              "    </tr>\n",
              "    <tr>\n",
              "      <th>10</th>\n",
              "      <td>ERKEK(65+)</td>\n",
              "      <td>2100</td>\n",
              "    </tr>\n",
              "    <tr>\n",
              "      <th>11</th>\n",
              "      <td>KADIN(10-13)</td>\n",
              "      <td>2200</td>\n",
              "    </tr>\n",
              "    <tr>\n",
              "      <th>12</th>\n",
              "      <td>KADIN(14-18)</td>\n",
              "      <td>2260</td>\n",
              "    </tr>\n",
              "    <tr>\n",
              "      <th>13</th>\n",
              "      <td>KADIN(19-30)</td>\n",
              "      <td>2180</td>\n",
              "    </tr>\n",
              "    <tr>\n",
              "      <th>14</th>\n",
              "      <td>KADIN(31-50)</td>\n",
              "      <td>2065</td>\n",
              "    </tr>\n",
              "    <tr>\n",
              "      <th>15</th>\n",
              "      <td>KADIN(51-65)</td>\n",
              "      <td>1917</td>\n",
              "    </tr>\n",
              "    <tr>\n",
              "      <th>16</th>\n",
              "      <td>KADIN(65+)</td>\n",
              "      <td>1790</td>\n",
              "    </tr>\n",
              "  </tbody>\n",
              "</table>\n",
              "</div>"
            ],
            "text/plain": [
              "            YAS  G.ENERJI(kkal)\n",
              "0         0-6 AY             545\n",
              "1        7-12 AY             710\n",
              "2            1-3            1250\n",
              "3            4-6            1650\n",
              "4            7-9            1870\n",
              "5   ERKEK(10-13)            2445\n",
              "6   ERKEK(14-18)            2860\n",
              "7   ERKEK(19-30)            2850\n",
              "8   ERKEK(31-50)            2623\n",
              "9   ERKEK(51-65)            2250\n",
              "10    ERKEK(65+)            2100\n",
              "11  KADIN(10-13)            2200\n",
              "12  KADIN(14-18)            2260\n",
              "13  KADIN(19-30)            2180\n",
              "14  KADIN(31-50)            2065\n",
              "15  KADIN(51-65)            1917\n",
              "16    KADIN(65+)            1790"
            ]
          },
          "metadata": {
            "tags": []
          },
          "execution_count": 30
        }
      ]
    },
    {
      "cell_type": "code",
      "metadata": {
        "id": "MQ3i9f8iHhzn",
        "colab": {
          "base_uri": "https://localhost:8080/",
          "height": 297
        },
        "outputId": "17510c20-0a1c-4d35-890c-c50f9befca2e"
      },
      "source": [
        "yas_enerji.describe() #yaş-enerji tablosunun istatistiği"
      ],
      "execution_count": null,
      "outputs": [
        {
          "output_type": "execute_result",
          "data": {
            "text/html": [
              "<div>\n",
              "<style scoped>\n",
              "    .dataframe tbody tr th:only-of-type {\n",
              "        vertical-align: middle;\n",
              "    }\n",
              "\n",
              "    .dataframe tbody tr th {\n",
              "        vertical-align: top;\n",
              "    }\n",
              "\n",
              "    .dataframe thead th {\n",
              "        text-align: right;\n",
              "    }\n",
              "</style>\n",
              "<table border=\"1\" class=\"dataframe\">\n",
              "  <thead>\n",
              "    <tr style=\"text-align: right;\">\n",
              "      <th></th>\n",
              "      <th>G.ENERJI(kkal)</th>\n",
              "    </tr>\n",
              "  </thead>\n",
              "  <tbody>\n",
              "    <tr>\n",
              "      <th>count</th>\n",
              "      <td>17.000000</td>\n",
              "    </tr>\n",
              "    <tr>\n",
              "      <th>mean</th>\n",
              "      <td>1974.411765</td>\n",
              "    </tr>\n",
              "    <tr>\n",
              "      <th>std</th>\n",
              "      <td>651.338147</td>\n",
              "    </tr>\n",
              "    <tr>\n",
              "      <th>min</th>\n",
              "      <td>545.000000</td>\n",
              "    </tr>\n",
              "    <tr>\n",
              "      <th>25%</th>\n",
              "      <td>1790.000000</td>\n",
              "    </tr>\n",
              "    <tr>\n",
              "      <th>50%</th>\n",
              "      <td>2100.000000</td>\n",
              "    </tr>\n",
              "    <tr>\n",
              "      <th>75%</th>\n",
              "      <td>2260.000000</td>\n",
              "    </tr>\n",
              "    <tr>\n",
              "      <th>max</th>\n",
              "      <td>2860.000000</td>\n",
              "    </tr>\n",
              "  </tbody>\n",
              "</table>\n",
              "</div>"
            ],
            "text/plain": [
              "       G.ENERJI(kkal)\n",
              "count       17.000000\n",
              "mean      1974.411765\n",
              "std        651.338147\n",
              "min        545.000000\n",
              "25%       1790.000000\n",
              "50%       2100.000000\n",
              "75%       2260.000000\n",
              "max       2860.000000"
            ]
          },
          "metadata": {
            "tags": []
          },
          "execution_count": 29
        }
      ]
    },
    {
      "cell_type": "code",
      "metadata": {
        "id": "W-skB97KYUQG",
        "colab": {
          "base_uri": "https://localhost:8080/",
          "height": 35
        },
        "outputId": "29c615f8-018c-4eca-999f-77672e854329"
      },
      "source": [
        "yas_enerji.columns #yaş-enerji tablosunun kolonları "
      ],
      "execution_count": null,
      "outputs": [
        {
          "output_type": "execute_result",
          "data": {
            "text/plain": [
              "Index(['YAS', 'G.ENERJI(kkal)'], dtype='object')"
            ]
          },
          "metadata": {
            "tags": []
          },
          "execution_count": 44
        }
      ]
    },
    {
      "cell_type": "markdown",
      "metadata": {
        "id": "Tneg2f7XPJiE"
      },
      "source": [
        "# **KULLANICIDAN İSTENİLEN YAŞ ARALIĞINA KARŞILIK GELEN GÜNLÜK ALMASI GEREKEN ENERJİYİ BULMA KISMI**"
      ]
    },
    {
      "cell_type": "code",
      "metadata": {
        "id": "gjA7xloKfW13"
      },
      "source": [
        "result = []\n",
        "\n",
        "\n",
        "key = input(\"Günlük alınması gereken enerjiyi bulmak için cinsiyet(cinsiyet belirtilmek istenirse) ve yaş aralığını giriniz..:\")\n",
        "\n",
        "with open(\"yas_enerji.csv\" , encoding='Latin-1') as csv_file:\n",
        "  for satir in csv_file:\n",
        "    if key in satir:\n",
        "      result.append(satir.split(',')[0:])\n",
        "          \n",
        "          \n",
        "print('Günlük alması gereken kalori bakımından enerji = ',result[:])\n",
        "\n",
        "\n"
      ],
      "execution_count": null,
      "outputs": []
    },
    {
      "cell_type": "code",
      "metadata": {
        "id": "O38f9POHpjyx",
        "colab": {
          "base_uri": "https://localhost:8080/",
          "height": 68
        },
        "outputId": "7cefe4ea-f6f5-4129-9c3d-f1679d09b6eb"
      },
      "source": [
        "#Kullanıcı tarafından girilen bir yaş aralığının günlük alması gereken enerji miktarını veren kod \n",
        "yas = yas_enerji.set_index('YAS') #yas_enerji'nin içeriğini \"YAS\" sütununu index olacak şekilde yas'a kopyalıyoruz\n",
        "yas_input = input(\"Yas aralıgınız : \") \n",
        "kkal = yas.loc[yas_input] \n",
        "kkal"
      ],
      "execution_count": null,
      "outputs": [
        {
          "output_type": "stream",
          "text": [
            "Yas aralıgınız : 0-6 AY\n"
          ],
          "name": "stdout"
        },
        {
          "output_type": "execute_result",
          "data": {
            "text/plain": [
              "G.ENERJI(kkal)    545\n",
              "Name: 0-6 AY, dtype: int64"
            ]
          },
          "metadata": {
            "tags": []
          },
          "execution_count": 60
        }
      ]
    },
    {
      "cell_type": "code",
      "metadata": {
        "id": "oUqD_pzSxd-J",
        "colab": {
          "base_uri": "https://localhost:8080/",
          "height": 34
        },
        "outputId": "73f88cc3-b6b3-4857-99ab-b6641afeb253"
      },
      "source": [
        "gram = kkal[\"G.ENERJI(kkal)\"]\n",
        "gram / 4"
      ],
      "execution_count": null,
      "outputs": [
        {
          "output_type": "execute_result",
          "data": {
            "text/plain": [
              "516.25"
            ]
          },
          "metadata": {
            "tags": []
          },
          "execution_count": 51
        }
      ]
    },
    {
      "cell_type": "markdown",
      "metadata": {
        "id": "uN5RGci_lnji"
      },
      "source": [
        "# **YAŞ -ENERJİ BAKIMINDAN İLİŞKİLERİ GÖZLEMLEYEBİLMEK İÇİN GRAFİKLEŞTİRME AŞAMASI**"
      ]
    },
    {
      "cell_type": "code",
      "metadata": {
        "id": "M0w9sLX1TEZm",
        "colab": {
          "base_uri": "https://localhost:8080/",
          "height": 382
        },
        "outputId": "4b712c7d-198c-4a5c-d5b5-fa1242116ea3"
      },
      "source": [
        "plt.figure(figsize=(30,6),facecolor='white')\n",
        "sns.barplot(x='YAS', y='G.ENERJI(kkal)', data=yas_enerji)\n",
        "plt.title(\"YAŞLARA GÖRE GÜNLÜK ALINMASI GEREKEN ENERJİ MİKTARLARI\")"
      ],
      "execution_count": null,
      "outputs": [
        {
          "output_type": "execute_result",
          "data": {
            "text/plain": [
              "Text(0.5, 1.0, 'YAŞLARA GÖRE GÜNLÜK ALINMASI GEREKEN ENERJİ MİKTARLARI')"
            ]
          },
          "metadata": {
            "tags": []
          },
          "execution_count": 58
        },
        {
          "output_type": "stream",
          "text": [
            "/usr/local/lib/python3.6/dist-packages/matplotlib/backends/backend_agg.py:214: RuntimeWarning: Glyph 158 missing from current font.\n",
            "  font.set_text(s, 0.0, flags=flags)\n",
            "/usr/local/lib/python3.6/dist-packages/matplotlib/backends/backend_agg.py:183: RuntimeWarning: Glyph 158 missing from current font.\n",
            "  font.set_text(s, 0, flags=flags)\n"
          ],
          "name": "stderr"
        },
        {
          "output_type": "display_data",
          "data": {
            "image/png": "[encoded data removed]",
            "text/plain": [
              "<Figure size 2160x432 with 1 Axes>"
            ]
          },
          "metadata": {
            "tags": []
          }
        }
      ]
    },
    {
      "cell_type": "code",
      "metadata": {
        "id": "6uC39d-ggvPS",
        "colab": {
          "base_uri": "https://localhost:8080/",
          "height": 609
        },
        "outputId": "a0fcdac8-dedb-42d3-8593-6c7e02f0bc71"
      },
      "source": [
        "yas_enerji['G.ENERJI(kkal)'].plot.pie(subplots = True ,labels = yas_enerji['G.ENERJI(kkal)'] ,figsize = (10,10),fontsize = 10 , autopct = '%1.2f%%' )"
      ],
      "execution_count": null,
      "outputs": [
        {
          "output_type": "execute_result",
          "data": {
            "text/plain": [
              "array([<matplotlib.axes._subplots.AxesSubplot object at 0x7fd2b82cf828>],\n",
              "      dtype=object)"
            ]
          },
          "metadata": {
            "tags": []
          },
          "execution_count": 40
        },
        {
          "output_type": "display_data",
          "data": {
            "image/png": "[encoded data removed]",
            "text/plain": [
              "<Figure size 720x720 with 1 Axes>"
            ]
          },
          "metadata": {
            "tags": []
          }
        }
      ]
    },
    {
      "cell_type": "markdown",
      "metadata": {
        "id": "3o32aeCpY4TE"
      },
      "source": [
        "# ENERJİ BAŞINA GÜNLÜK ALINMASI GEREKEN ENERJİNİN KARBONHİDRAT , PROTEİN VE YAĞ BESİN TÜRÜNE GÖRE DAĞILIMI ;\n",
        "  \n",
        "\n",
        "1.   %60 Karbonhidrat (kkal/4)\n",
        "2.   %15 Protein (kkal/4)\n",
        "3.   %25 Yağ (kkal/9)\n",
        "\n",
        "\n",
        "Örnek: \n",
        "\n",
        "*   2250 kkal günlük enerji ihtiyacı : (grama dönüştür (kkal/4)\n",
        "*   337.5 g Karbonhidrat\n",
        "*   84.4 g Protein\n",
        "*   62.5 g Yağ "
      ]
    }
  ]
}